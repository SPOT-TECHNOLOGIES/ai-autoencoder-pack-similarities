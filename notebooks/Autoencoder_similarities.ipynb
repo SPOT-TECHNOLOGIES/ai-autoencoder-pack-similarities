{
  "nbformat": 4,
  "nbformat_minor": 0,
  "metadata": {
    "colab": {
      "provenance": [],
      "collapsed_sections": []
    },
    "kernelspec": {
      "name": "python3",
      "display_name": "Python 3"
    },
    "language_info": {
      "name": "python"
    },
    "accelerator": "GPU"
  },
  "cells": [
    {
      "cell_type": "markdown",
      "source": [
        "## Similarity computation using encoder-decoder (pytorch)"
      ],
      "metadata": {
        "id": "9JaAWr87WfyJ"
      }
    },
    {
      "cell_type": "markdown",
      "source": [
        "## Mounting drive files"
      ],
      "metadata": {
        "id": "mS25WSK6WtGr"
      }
    },
    {
      "cell_type": "code",
      "execution_count": 1,
      "metadata": {
        "colab": {
          "base_uri": "https://localhost:8080/"
        },
        "id": "h6eX2wwrWYvL",
        "outputId": "f9a430b2-1f1c-4a45-e03a-6b08c0bea39c"
      },
      "outputs": [
        {
          "output_type": "stream",
          "name": "stdout",
          "text": [
            "Mounted at MyDrive/\n"
          ]
        }
      ],
      "source": [
        "from google.colab import drive\n",
        "\n",
        "drive.mount('MyDrive/')"
      ]
    },
    {
      "cell_type": "markdown",
      "source": [
        "## Importing libraries"
      ],
      "metadata": {
        "id": "BoYvzHrCXB_Q"
      }
    },
    {
      "cell_type": "code",
      "source": [
        "import torch\n",
        "from PIL import Image\n",
        "import os\n",
        "from tqdm import tqdm\n",
        "from torch.utils.data import Dataset\n",
        "\n",
        "import torchvision.transforms as T\n",
        "from tqdm import tqdm\n",
        "import torch.nn as nn\n",
        "import torch.optim as optim"
      ],
      "metadata": {
        "id": "wto108taXF08"
      },
      "execution_count": 2,
      "outputs": []
    },
    {
      "cell_type": "markdown",
      "source": [
        "## Class to read datasets"
      ],
      "metadata": {
        "id": "FeDhE1rGXksP"
      }
    },
    {
      "cell_type": "code",
      "source": [
        "class FolderDataset(Dataset):\n",
        "    def __init__(self, main_dir, transform=None):\n",
        "        self.main_dir = main_dir\n",
        "        self.transform = transform\n",
        "        self.all_imgs = sorted(os.listdir(main_dir))\n",
        "\n",
        "    def __len__(self):\n",
        "        return len(self.all_imgs)\n",
        "\n",
        "    def __getitem__(self, idx):\n",
        "        img_loc = os.path.join(self.main_dir, self.all_imgs[idx])\n",
        "        image = Image.open(img_loc).convert(\"RGB\")\n",
        "\n",
        "        if self.transform is not None:\n",
        "            tensor_image = self.transform(image)\n",
        "\n",
        "        return tensor_image, tensor_image"
      ],
      "metadata": {
        "id": "Lk7W1gaMXSUR"
      },
      "execution_count": 3,
      "outputs": []
    },
    {
      "cell_type": "markdown",
      "source": [
        "## ConvEncoder & ConvDecoder Classes\n",
        "\n",
        "We can change this for different models (i. e., efficientNet)"
      ],
      "metadata": {
        "id": "GwMBoM6vXYAk"
      }
    },
    {
      "cell_type": "code",
      "source": [
        "class ConvEncoder(nn.Module):\n",
        "    def __init__(self):\n",
        "        super().__init__()\n",
        "        # self.img_size = img_size\n",
        "        self.conv1 = nn.Conv2d(3, 16, (3, 3), padding=(1, 1))\n",
        "        self.relu1 = nn.ReLU(inplace=True)\n",
        "        self.maxpool1 = nn.MaxPool2d((2, 2))\n",
        "\n",
        "        self.conv2 = nn.Conv2d(16, 32, (3, 3), padding=(1, 1))\n",
        "        self.relu2 = nn.ReLU(inplace=True)\n",
        "        self.maxpool2 = nn.MaxPool2d((2, 2))\n",
        "\n",
        "        self.conv3 = nn.Conv2d(32, 64, (3, 3), padding=(1, 1))\n",
        "        self.relu3 = nn.ReLU(inplace=True)\n",
        "        self.maxpool3 = nn.MaxPool2d((2, 2))\n",
        "\n",
        "    def forward(self, x):\n",
        "        # Downscale the image with conv maxpool etc.\n",
        "        # print(x.shape)\n",
        "        x = self.conv1(x)\n",
        "        x = self.relu1(x)\n",
        "        x = self.maxpool1(x)\n",
        "\n",
        "        # print(x.shape)\n",
        "\n",
        "        x = self.conv2(x)\n",
        "        x = self.relu2(x)\n",
        "        x = self.maxpool2(x)\n",
        "\n",
        "        # print(x.shape)\n",
        "\n",
        "        x = self.conv3(x)\n",
        "        x = self.relu3(x)\n",
        "        x = self.maxpool3(x)\n",
        "\n",
        "        # print(x.shape)\n",
        "        return x\n",
        "\n",
        "\n",
        "class ConvDecoder(nn.Module):\n",
        "    def __init__(self):\n",
        "        super().__init__()\n",
        "        self.deconv1 = nn.ConvTranspose2d(64, 32, (2, 2), stride=(2, 2))\n",
        "        # self.upsamp1 = nn.UpsamplingBilinear2d(2)\n",
        "        self.relu1 = nn.ReLU(inplace=True)\n",
        "\n",
        "        self.deconv2 = nn.ConvTranspose2d(32, 16, (2, 2), stride=(2, 2))\n",
        "#         self.upsamp1 = nn.UpsamplingBilinear2d(2)\n",
        "        self.relu2 = nn.ReLU(inplace=True)\n",
        "\n",
        "        self.deconv3 = nn.ConvTranspose2d(16, 3, (2, 2), stride=(2, 2))\n",
        "#         self.upsamp1 = nn.UpsamplingBilinear2d(2)\n",
        "        self.relu3 = nn.ReLU(inplace=True)\n",
        "\n",
        "    def forward(self, x):\n",
        "        # print(x.shape)\n",
        "        x = self.deconv1(x)\n",
        "        x = self.relu1(x)\n",
        "        # print(x.shape)\n",
        "\n",
        "        x = self.deconv2(x)\n",
        "        x = self.relu2(x)\n",
        "        # print(x.shape)\n",
        "\n",
        "        x = self.deconv3(x)\n",
        "        x = self.relu3(x)\n",
        "        # print(x.shape)\n",
        "        return x"
      ],
      "metadata": {
        "id": "-76Ni9m8XWlc"
      },
      "execution_count": 4,
      "outputs": []
    },
    {
      "cell_type": "markdown",
      "source": [
        "## Hyperparameters"
      ],
      "metadata": {
        "id": "fqw3QkfgZyF5"
      }
    },
    {
      "cell_type": "code",
      "source": [
        "IMG_VAL_PATH = \"/content/MyDrive/MyDrive/SPOT/package_similarities/encoder_dataset/val\"\n",
        "IMG_TRAIN_PATH = \"/content/MyDrive/MyDrive/SPOT/package_similarities/encoder_dataset/train\"\n",
        "IMG_SIM_PATH = \"/content/MyDrive/MyDrive/SPOT/package_similarities/bultos_tiendas_74/\"\n",
        "IMG_HEIGHT = 512 \n",
        "IMG_WIDTH = 512  \n",
        "\n",
        "SEED = 42\n",
        "TRAIN_RATIO = 0.75\n",
        "VAL_RATIO = 1 - TRAIN_RATIO\n",
        "SHUFFLE_BUFFER_SIZE = 100\n",
        "\n",
        "LEARNING_RATE = 1e-3\n",
        "EPOCHS = 200\n",
        "TRAIN_BATCH_SIZE = 32 \n",
        "TEST_BATCH_SIZE = 32 \n",
        "FULL_BATCH_SIZE = 32\n",
        "\n",
        "AUTOENCODER_MODEL_PATH = \"/content/MyDrive/MyDrive/SPOT/package_similarities/models/baseline_autoencoder.pt\"\n",
        "ENCODER_MODEL_PATH = \"/content/MyDrive/MyDrive/SPOT/package_similarities/models/baseline_encoder.pt\"\n",
        "DECODER_MODEL_PATH = \"/content/MyDrive/MyDrive/SPOT/package_similarities/models/baseline_decoder.pt\"\n",
        "EMBEDDING_SHAPE = (1, 64, 64, 64)\n"
      ],
      "metadata": {
        "id": "s4R8hzCqZ0xL"
      },
      "execution_count": 5,
      "outputs": []
    },
    {
      "cell_type": "markdown",
      "source": [
        "## Setting training and validation steps"
      ],
      "metadata": {
        "id": "z2sR6PW7aA9j"
      }
    },
    {
      "cell_type": "code",
      "source": [
        "__all__ = [\"train_step\", \"val_step\", \"create_embedding\"]\n",
        "\n",
        "import torch\n",
        "import torch.nn as nn\n",
        "\n",
        "# device = torch.device(\"cuda\" if torch.cuda.is_available() else \"cpu\")\n",
        "\n",
        "\n",
        "def train_step(encoder, decoder, train_loader, loss_fn, optimizer, device):\n",
        "    # device = \"cuda\"\n",
        "    encoder.train()\n",
        "    decoder.train()\n",
        "\n",
        "    # print(device)\n",
        "\n",
        "    for batch_idx, (train_img, target_img) in enumerate(train_loader):\n",
        "        train_img = train_img.to(device)\n",
        "        target_img = target_img.to(device)\n",
        "\n",
        "        optimizer.zero_grad()\n",
        "\n",
        "        enc_output = encoder(train_img)\n",
        "        dec_output = decoder(enc_output)\n",
        "\n",
        "        loss = loss_fn(dec_output, target_img)\n",
        "        loss.backward()\n",
        "\n",
        "        optimizer.step()\n",
        "\n",
        "    return loss.item()\n",
        "\n",
        "\n",
        "def val_step(encoder, decoder, val_loader, loss_fn, device):\n",
        "    encoder.eval()\n",
        "    decoder.eval()\n",
        "\n",
        "    with torch.no_grad():\n",
        "        for batch_idx, (train_img, target_img) in enumerate(val_loader):\n",
        "            train_img = train_img.to(device)\n",
        "            target_img = target_img.to(device)\n",
        "\n",
        "            enc_output = encoder(train_img)\n",
        "            dec_output = decoder(enc_output)\n",
        "\n",
        "            loss = loss_fn(dec_output, target_img)\n",
        "\n",
        "    return loss.item()"
      ],
      "metadata": {
        "id": "vS_y8bffaF9N"
      },
      "execution_count": 6,
      "outputs": []
    },
    {
      "cell_type": "markdown",
      "source": [
        "## Dataset creation and loaders\n",
        "\n",
        "We can add here data augmentation to enhace accuracy (!!!!)"
      ],
      "metadata": {
        "id": "y1Yp6I1yaYIG"
      }
    },
    {
      "cell_type": "code",
      "source": [
        "if torch.cuda.is_available():\n",
        "    device = \"cuda\"\n",
        "else:\n",
        "    device = \"cpu\"\n",
        "\n",
        "# print(\"Setting Seed for the run, seed = {}\".format(config.SEED))\n",
        "\n",
        "# seed_everything(config.SEED)\n",
        "\n",
        "transforms_val = T.Compose([T.Resize((IMG_WIDTH,IMG_HEIGHT)),T.ToTensor()])\n",
        "transforms_train = T.Compose([T.Resize((IMG_WIDTH,IMG_HEIGHT)),T.AutoAugment(T.AutoAugmentPolicy.SVHN),T.ToTensor()])\n",
        "\n",
        "print(\"------------ Creating Dataset ------------\")\n",
        "train_dataset = FolderDataset(IMG_TRAIN_PATH, transforms_train)\n",
        "val_dataset = FolderDataset(IMG_VAL_PATH, transforms_val)\n",
        "sim_dataset = FolderDataset(IMG_SIM_PATH, transforms_val)\n",
        "\n",
        "# train_size = int(TRAIN_RATIO * len(full_dataset))\n",
        "# val_size = len(full_dataset) - train_size\n",
        "\n",
        "# train_dataset, val_dataset = torch.utils.data.random_split(\n",
        "#     full_dataset, [train_size, val_size]\n",
        "# )\n",
        "\n",
        "print(\"------------ Dataset Created ------------\")\n",
        "print(\"------------ Creating DataLoader ------------\")\n",
        "train_loader = torch.utils.data.DataLoader(\n",
        "    train_dataset, batch_size=TRAIN_BATCH_SIZE, shuffle=True, drop_last=True\n",
        ")\n",
        "val_loader = torch.utils.data.DataLoader(\n",
        "    val_dataset, batch_size=TEST_BATCH_SIZE\n",
        ")\n",
        "\n",
        "# full_loader = torch.utils.data.DataLoader(\n",
        "#     full_dataset, batch_size=FULL_BATCH_SIZE\n",
        "# )\n",
        "\n",
        "test_loader = torch.utils.data.DataLoader(\n",
        "    sim_dataset, batch_size=FULL_BATCH_SIZE\n",
        ")\n",
        "\n",
        "for batch_idx, (train_img, target_img) in enumerate(val_loader):\n",
        "  print(train_img.shape)\n",
        "  break"
      ],
      "metadata": {
        "id": "QOr6my2BacXY",
        "colab": {
          "base_uri": "https://localhost:8080/"
        },
        "outputId": "6e9d895a-7f4a-43d1-c15b-0e2a13488d41"
      },
      "execution_count": 7,
      "outputs": [
        {
          "output_type": "stream",
          "name": "stdout",
          "text": [
            "------------ Creating Dataset ------------\n",
            "------------ Dataset Created ------------\n",
            "------------ Creating DataLoader ------------\n",
            "torch.Size([32, 3, 512, 512])\n"
          ]
        }
      ]
    },
    {
      "cell_type": "markdown",
      "source": [
        "## Training"
      ],
      "metadata": {
        "id": "2n2bPUZ4eyWj"
      }
    },
    {
      "cell_type": "code",
      "source": [
        "print(\"------------ Dataloader Cretead ------------\")\n",
        "\n",
        "# print(train_loader)\n",
        "loss_fn = nn.MSELoss()\n",
        "\n",
        "encoder = ConvEncoder()\n",
        "decoder = ConvDecoder()\n",
        "\n",
        "if torch.cuda.is_available():\n",
        "    print(\"GPU Availaible moving models to GPU\")\n",
        "else:\n",
        "    print(\"Moving models to CPU\")\n",
        "\n",
        "encoder.to(device)\n",
        "decoder.to(device)\n",
        "\n",
        "# print(device)\n",
        "\n",
        "autoencoder_params = list(encoder.parameters()) + list(decoder.parameters())\n",
        "optimizer = optim.AdamW(autoencoder_params, lr=LEARNING_RATE)\n",
        "\n",
        "# early_stopper = utils.EarlyStopping(patience=5, verbose=True, path=)\n",
        "max_loss = 9999\n",
        "\n",
        "print(\"------------ Training started ------------\")\n",
        "\n",
        "for epoch in tqdm(range(EPOCHS)):\n",
        "    train_loss = train_step(\n",
        "        encoder, decoder, train_loader, loss_fn, optimizer, device=device\n",
        "    )\n",
        "    print(f\"Epochs = {epoch}, Training Loss : {train_loss}\")\n",
        "    val_loss = val_step(\n",
        "        encoder, decoder, val_loader, loss_fn, device=device\n",
        "    )\n",
        "\n",
        "    # Simple Best Model saving\n",
        "    if val_loss < max_loss:\n",
        "        print(\"Validation Loss decreased, saving new best model\")\n",
        "        torch.save(encoder.state_dict(), ENCODER_MODEL_PATH)\n",
        "        torch.save(decoder.state_dict(), DECODER_MODEL_PATH)\n",
        "\n",
        "    print(f\"Epochs = {epoch}, Validation Loss : {val_loss}\")\n",
        "\n",
        "print(\"Training Done\")"
      ],
      "metadata": {
        "id": "GWZSLh3ge0G-",
        "colab": {
          "base_uri": "https://localhost:8080/"
        },
        "outputId": "66726fb0-9596-4cd3-8262-dd328ccd486c"
      },
      "execution_count": 8,
      "outputs": [
        {
          "output_type": "stream",
          "name": "stdout",
          "text": [
            "------------ Dataloader Cretead ------------\n",
            "GPU Availaible moving models to GPU\n",
            "------------ Training started ------------\n"
          ]
        },
        {
          "output_type": "stream",
          "name": "stderr",
          "text": [
            "\r  0%|          | 0/200 [00:00<?, ?it/s]"
          ]
        },
        {
          "output_type": "stream",
          "name": "stdout",
          "text": [
            "Epochs = 0, Training Loss : 0.24978363513946533\n"
          ]
        },
        {
          "output_type": "stream",
          "name": "stderr",
          "text": [
            "\r  0%|          | 1/200 [00:15<51:23, 15.49s/it]"
          ]
        },
        {
          "output_type": "stream",
          "name": "stdout",
          "text": [
            "Validation Loss decreased, saving new best model\n",
            "Epochs = 0, Validation Loss : 0.18863078951835632\n",
            "Epochs = 1, Training Loss : 0.1937265843153\n"
          ]
        },
        {
          "output_type": "stream",
          "name": "stderr",
          "text": [
            "\r  1%|          | 2/200 [00:18<26:39,  8.08s/it]"
          ]
        },
        {
          "output_type": "stream",
          "name": "stdout",
          "text": [
            "Validation Loss decreased, saving new best model\n",
            "Epochs = 1, Validation Loss : 0.18359650671482086\n",
            "Epochs = 2, Training Loss : 0.2133341282606125\n"
          ]
        },
        {
          "output_type": "stream",
          "name": "stderr",
          "text": [
            "\r  2%|▏         | 3/200 [00:21<18:42,  5.70s/it]"
          ]
        },
        {
          "output_type": "stream",
          "name": "stdout",
          "text": [
            "Validation Loss decreased, saving new best model\n",
            "Epochs = 2, Validation Loss : 0.17296868562698364\n",
            "Epochs = 3, Training Loss : 0.15786373615264893\n"
          ]
        },
        {
          "output_type": "stream",
          "name": "stderr",
          "text": [
            "\r  2%|▏         | 4/200 [00:24<14:59,  4.59s/it]"
          ]
        },
        {
          "output_type": "stream",
          "name": "stdout",
          "text": [
            "Validation Loss decreased, saving new best model\n",
            "Epochs = 3, Validation Loss : 0.14508609473705292\n",
            "Epochs = 4, Training Loss : 0.16482961177825928\n"
          ]
        },
        {
          "output_type": "stream",
          "name": "stderr",
          "text": [
            "\r  2%|▎         | 5/200 [00:27<12:58,  3.99s/it]"
          ]
        },
        {
          "output_type": "stream",
          "name": "stdout",
          "text": [
            "Validation Loss decreased, saving new best model\n",
            "Epochs = 4, Validation Loss : 0.11905388534069061\n",
            "Epochs = 5, Training Loss : 0.11530637741088867\n"
          ]
        },
        {
          "output_type": "stream",
          "name": "stderr",
          "text": [
            "\r  3%|▎         | 6/200 [00:29<11:39,  3.60s/it]"
          ]
        },
        {
          "output_type": "stream",
          "name": "stdout",
          "text": [
            "Validation Loss decreased, saving new best model\n",
            "Epochs = 5, Validation Loss : 0.09921536594629288\n",
            "Epochs = 6, Training Loss : 0.10323037952184677\n"
          ]
        },
        {
          "output_type": "stream",
          "name": "stderr",
          "text": [
            "\r  4%|▎         | 7/200 [00:32<10:47,  3.36s/it]"
          ]
        },
        {
          "output_type": "stream",
          "name": "stdout",
          "text": [
            "Validation Loss decreased, saving new best model\n",
            "Epochs = 6, Validation Loss : 0.0863071009516716\n",
            "Epochs = 7, Training Loss : 0.08970053493976593\n"
          ]
        },
        {
          "output_type": "stream",
          "name": "stderr",
          "text": [
            "\r  4%|▍         | 8/200 [00:35<10:11,  3.18s/it]"
          ]
        },
        {
          "output_type": "stream",
          "name": "stdout",
          "text": [
            "Validation Loss decreased, saving new best model\n",
            "Epochs = 7, Validation Loss : 0.07620172202587128\n",
            "Epochs = 8, Training Loss : 0.07631465792655945\n"
          ]
        },
        {
          "output_type": "stream",
          "name": "stderr",
          "text": [
            "\r  4%|▍         | 9/200 [00:38<09:50,  3.09s/it]"
          ]
        },
        {
          "output_type": "stream",
          "name": "stdout",
          "text": [
            "Validation Loss decreased, saving new best model\n",
            "Epochs = 8, Validation Loss : 0.06798642873764038\n",
            "Epochs = 9, Training Loss : 0.079209104180336\n"
          ]
        },
        {
          "output_type": "stream",
          "name": "stderr",
          "text": [
            "\r  5%|▌         | 10/200 [00:41<09:32,  3.01s/it]"
          ]
        },
        {
          "output_type": "stream",
          "name": "stdout",
          "text": [
            "Validation Loss decreased, saving new best model\n",
            "Epochs = 9, Validation Loss : 0.06368722021579742\n",
            "Epochs = 10, Training Loss : 0.07167192548513412\n"
          ]
        },
        {
          "output_type": "stream",
          "name": "stderr",
          "text": [
            "\r  6%|▌         | 11/200 [00:44<09:22,  2.97s/it]"
          ]
        },
        {
          "output_type": "stream",
          "name": "stdout",
          "text": [
            "Validation Loss decreased, saving new best model\n",
            "Epochs = 10, Validation Loss : 0.06003725156188011\n",
            "Epochs = 11, Training Loss : 0.07017984986305237\n"
          ]
        },
        {
          "output_type": "stream",
          "name": "stderr",
          "text": [
            "\r  6%|▌         | 12/200 [00:47<09:13,  2.94s/it]"
          ]
        },
        {
          "output_type": "stream",
          "name": "stdout",
          "text": [
            "Validation Loss decreased, saving new best model\n",
            "Epochs = 11, Validation Loss : 0.05590701103210449\n",
            "Epochs = 12, Training Loss : 0.05538397282361984\n"
          ]
        },
        {
          "output_type": "stream",
          "name": "stderr",
          "text": [
            "\r  6%|▋         | 13/200 [00:49<09:06,  2.92s/it]"
          ]
        },
        {
          "output_type": "stream",
          "name": "stdout",
          "text": [
            "Validation Loss decreased, saving new best model\n",
            "Epochs = 12, Validation Loss : 0.05256733298301697\n",
            "Epochs = 13, Training Loss : 0.05870042368769646\n"
          ]
        },
        {
          "output_type": "stream",
          "name": "stderr",
          "text": [
            "\r  7%|▋         | 14/200 [00:52<08:59,  2.90s/it]"
          ]
        },
        {
          "output_type": "stream",
          "name": "stdout",
          "text": [
            "Validation Loss decreased, saving new best model\n",
            "Epochs = 13, Validation Loss : 0.050863053649663925\n",
            "Epochs = 14, Training Loss : 0.05775108188390732\n"
          ]
        },
        {
          "output_type": "stream",
          "name": "stderr",
          "text": [
            "\r  8%|▊         | 15/200 [00:55<08:55,  2.89s/it]"
          ]
        },
        {
          "output_type": "stream",
          "name": "stdout",
          "text": [
            "Validation Loss decreased, saving new best model\n",
            "Epochs = 14, Validation Loss : 0.04951254650950432\n",
            "Epochs = 15, Training Loss : 0.05058803781867027\n"
          ]
        },
        {
          "output_type": "stream",
          "name": "stderr",
          "text": [
            "\r  8%|▊         | 16/200 [00:58<08:52,  2.89s/it]"
          ]
        },
        {
          "output_type": "stream",
          "name": "stdout",
          "text": [
            "Validation Loss decreased, saving new best model\n",
            "Epochs = 15, Validation Loss : 0.04844655841588974\n",
            "Epochs = 16, Training Loss : 0.05625743418931961\n"
          ]
        },
        {
          "output_type": "stream",
          "name": "stderr",
          "text": [
            "\r  8%|▊         | 17/200 [01:01<08:46,  2.88s/it]"
          ]
        },
        {
          "output_type": "stream",
          "name": "stdout",
          "text": [
            "Validation Loss decreased, saving new best model\n",
            "Epochs = 16, Validation Loss : 0.047702252864837646\n",
            "Epochs = 17, Training Loss : 0.0467798113822937\n"
          ]
        },
        {
          "output_type": "stream",
          "name": "stderr",
          "text": [
            "\r  9%|▉         | 18/200 [01:04<08:40,  2.86s/it]"
          ]
        },
        {
          "output_type": "stream",
          "name": "stdout",
          "text": [
            "Validation Loss decreased, saving new best model\n",
            "Epochs = 17, Validation Loss : 0.04703968018293381\n",
            "Epochs = 18, Training Loss : 0.059554871171712875\n"
          ]
        },
        {
          "output_type": "stream",
          "name": "stderr",
          "text": [
            "\r 10%|▉         | 19/200 [01:07<08:37,  2.86s/it]"
          ]
        },
        {
          "output_type": "stream",
          "name": "stdout",
          "text": [
            "Validation Loss decreased, saving new best model\n",
            "Epochs = 18, Validation Loss : 0.04657183960080147\n",
            "Epochs = 19, Training Loss : 0.04882718622684479\n"
          ]
        },
        {
          "output_type": "stream",
          "name": "stderr",
          "text": [
            "\r 10%|█         | 20/200 [01:10<08:38,  2.88s/it]"
          ]
        },
        {
          "output_type": "stream",
          "name": "stdout",
          "text": [
            "Validation Loss decreased, saving new best model\n",
            "Epochs = 19, Validation Loss : 0.0461496077477932\n",
            "Epochs = 20, Training Loss : 0.06091935560107231\n"
          ]
        },
        {
          "output_type": "stream",
          "name": "stderr",
          "text": [
            "\r 10%|█         | 21/200 [01:12<08:34,  2.87s/it]"
          ]
        },
        {
          "output_type": "stream",
          "name": "stdout",
          "text": [
            "Validation Loss decreased, saving new best model\n",
            "Epochs = 20, Validation Loss : 0.04587377607822418\n",
            "Epochs = 21, Training Loss : 0.056704699993133545\n"
          ]
        },
        {
          "output_type": "stream",
          "name": "stderr",
          "text": [
            "\r 11%|█         | 22/200 [01:15<08:31,  2.87s/it]"
          ]
        },
        {
          "output_type": "stream",
          "name": "stdout",
          "text": [
            "Validation Loss decreased, saving new best model\n",
            "Epochs = 21, Validation Loss : 0.045677945017814636\n",
            "Epochs = 22, Training Loss : 0.05178786814212799\n"
          ]
        },
        {
          "output_type": "stream",
          "name": "stderr",
          "text": [
            "\r 12%|█▏        | 23/200 [01:18<08:32,  2.90s/it]"
          ]
        },
        {
          "output_type": "stream",
          "name": "stdout",
          "text": [
            "Validation Loss decreased, saving new best model\n",
            "Epochs = 22, Validation Loss : 0.04548705369234085\n",
            "Epochs = 23, Training Loss : 0.057393621653318405\n"
          ]
        },
        {
          "output_type": "stream",
          "name": "stderr",
          "text": [
            "\r 12%|█▏        | 24/200 [01:21<08:27,  2.88s/it]"
          ]
        },
        {
          "output_type": "stream",
          "name": "stdout",
          "text": [
            "Validation Loss decreased, saving new best model\n",
            "Epochs = 23, Validation Loss : 0.04525589197874069\n",
            "Epochs = 24, Training Loss : 0.05894262716174126\n"
          ]
        },
        {
          "output_type": "stream",
          "name": "stderr",
          "text": [
            "\r 12%|█▎        | 25/200 [01:24<08:27,  2.90s/it]"
          ]
        },
        {
          "output_type": "stream",
          "name": "stdout",
          "text": [
            "Validation Loss decreased, saving new best model\n",
            "Epochs = 24, Validation Loss : 0.04502617195248604\n",
            "Epochs = 25, Training Loss : 0.04278948903083801\n"
          ]
        },
        {
          "output_type": "stream",
          "name": "stderr",
          "text": [
            "\r 13%|█▎        | 26/200 [01:27<08:22,  2.89s/it]"
          ]
        },
        {
          "output_type": "stream",
          "name": "stdout",
          "text": [
            "Validation Loss decreased, saving new best model\n",
            "Epochs = 25, Validation Loss : 0.04486953094601631\n",
            "Epochs = 26, Training Loss : 0.05549181252717972\n"
          ]
        },
        {
          "output_type": "stream",
          "name": "stderr",
          "text": [
            "\r 14%|█▎        | 27/200 [01:30<08:17,  2.88s/it]"
          ]
        },
        {
          "output_type": "stream",
          "name": "stdout",
          "text": [
            "Validation Loss decreased, saving new best model\n",
            "Epochs = 26, Validation Loss : 0.04475104436278343\n",
            "Epochs = 27, Training Loss : 0.04308125376701355\n"
          ]
        },
        {
          "output_type": "stream",
          "name": "stderr",
          "text": [
            "\r 14%|█▍        | 28/200 [01:33<08:11,  2.86s/it]"
          ]
        },
        {
          "output_type": "stream",
          "name": "stdout",
          "text": [
            "Validation Loss decreased, saving new best model\n",
            "Epochs = 27, Validation Loss : 0.04460170492529869\n",
            "Epochs = 28, Training Loss : 0.049041181802749634\n"
          ]
        },
        {
          "output_type": "stream",
          "name": "stderr",
          "text": [
            "\r 14%|█▍        | 29/200 [01:35<08:09,  2.86s/it]"
          ]
        },
        {
          "output_type": "stream",
          "name": "stdout",
          "text": [
            "Validation Loss decreased, saving new best model\n",
            "Epochs = 28, Validation Loss : 0.044492218643426895\n",
            "Epochs = 29, Training Loss : 0.04714859277009964\n"
          ]
        },
        {
          "output_type": "stream",
          "name": "stderr",
          "text": [
            "\r 15%|█▌        | 30/200 [01:38<08:08,  2.87s/it]"
          ]
        },
        {
          "output_type": "stream",
          "name": "stdout",
          "text": [
            "Validation Loss decreased, saving new best model\n",
            "Epochs = 29, Validation Loss : 0.04438406601548195\n",
            "Epochs = 30, Training Loss : 0.04506374150514603\n"
          ]
        },
        {
          "output_type": "stream",
          "name": "stderr",
          "text": [
            "\r 16%|█▌        | 31/200 [01:41<08:03,  2.86s/it]"
          ]
        },
        {
          "output_type": "stream",
          "name": "stdout",
          "text": [
            "Validation Loss decreased, saving new best model\n",
            "Epochs = 30, Validation Loss : 0.044261544942855835\n",
            "Epochs = 31, Training Loss : 0.058689843863248825\n"
          ]
        },
        {
          "output_type": "stream",
          "name": "stderr",
          "text": [
            "\r 16%|█▌        | 32/200 [01:44<08:00,  2.86s/it]"
          ]
        },
        {
          "output_type": "stream",
          "name": "stdout",
          "text": [
            "Validation Loss decreased, saving new best model\n",
            "Epochs = 31, Validation Loss : 0.04416199028491974\n",
            "Epochs = 32, Training Loss : 0.0506560318171978\n"
          ]
        },
        {
          "output_type": "stream",
          "name": "stderr",
          "text": [
            "\r 16%|█▋        | 33/200 [01:47<07:58,  2.87s/it]"
          ]
        },
        {
          "output_type": "stream",
          "name": "stdout",
          "text": [
            "Validation Loss decreased, saving new best model\n",
            "Epochs = 32, Validation Loss : 0.04410829395055771\n",
            "Epochs = 33, Training Loss : 0.05081860348582268\n"
          ]
        },
        {
          "output_type": "stream",
          "name": "stderr",
          "text": [
            "\r 17%|█▋        | 34/200 [01:50<07:52,  2.85s/it]"
          ]
        },
        {
          "output_type": "stream",
          "name": "stdout",
          "text": [
            "Validation Loss decreased, saving new best model\n",
            "Epochs = 33, Validation Loss : 0.04408368840813637\n",
            "Epochs = 34, Training Loss : 0.047875046730041504\n"
          ]
        },
        {
          "output_type": "stream",
          "name": "stderr",
          "text": [
            "\r 18%|█▊        | 35/200 [01:53<07:49,  2.85s/it]"
          ]
        },
        {
          "output_type": "stream",
          "name": "stdout",
          "text": [
            "Validation Loss decreased, saving new best model\n",
            "Epochs = 34, Validation Loss : 0.04405093938112259\n",
            "Epochs = 35, Training Loss : 0.049711924046278\n"
          ]
        },
        {
          "output_type": "stream",
          "name": "stderr",
          "text": [
            "\r 18%|█▊        | 36/200 [01:55<07:47,  2.85s/it]"
          ]
        },
        {
          "output_type": "stream",
          "name": "stdout",
          "text": [
            "Validation Loss decreased, saving new best model\n",
            "Epochs = 35, Validation Loss : 0.043916553258895874\n",
            "Epochs = 36, Training Loss : 0.0479682981967926\n"
          ]
        },
        {
          "output_type": "stream",
          "name": "stderr",
          "text": [
            "\r 18%|█▊        | 37/200 [01:59<08:07,  2.99s/it]"
          ]
        },
        {
          "output_type": "stream",
          "name": "stdout",
          "text": [
            "Validation Loss decreased, saving new best model\n",
            "Epochs = 36, Validation Loss : 0.043970584869384766\n",
            "Epochs = 37, Training Loss : 0.04712609946727753\n"
          ]
        },
        {
          "output_type": "stream",
          "name": "stderr",
          "text": [
            "\r 19%|█▉        | 38/200 [02:02<07:58,  2.95s/it]"
          ]
        },
        {
          "output_type": "stream",
          "name": "stdout",
          "text": [
            "Validation Loss decreased, saving new best model\n",
            "Epochs = 37, Validation Loss : 0.04388532042503357\n",
            "Epochs = 38, Training Loss : 0.04552420228719711\n"
          ]
        },
        {
          "output_type": "stream",
          "name": "stderr",
          "text": [
            "\r 20%|█▉        | 39/200 [02:04<07:51,  2.93s/it]"
          ]
        },
        {
          "output_type": "stream",
          "name": "stdout",
          "text": [
            "Validation Loss decreased, saving new best model\n",
            "Epochs = 38, Validation Loss : 0.04379842057824135\n",
            "Epochs = 39, Training Loss : 0.04449857398867607\n"
          ]
        },
        {
          "output_type": "stream",
          "name": "stderr",
          "text": [
            "\r 20%|██        | 40/200 [02:07<07:46,  2.92s/it]"
          ]
        },
        {
          "output_type": "stream",
          "name": "stdout",
          "text": [
            "Validation Loss decreased, saving new best model\n",
            "Epochs = 39, Validation Loss : 0.0438816100358963\n",
            "Epochs = 40, Training Loss : 0.04790554568171501\n"
          ]
        },
        {
          "output_type": "stream",
          "name": "stderr",
          "text": [
            "\r 20%|██        | 41/200 [02:10<07:41,  2.90s/it]"
          ]
        },
        {
          "output_type": "stream",
          "name": "stdout",
          "text": [
            "Validation Loss decreased, saving new best model\n",
            "Epochs = 40, Validation Loss : 0.04397484287619591\n",
            "Epochs = 41, Training Loss : 0.0486038438975811\n"
          ]
        },
        {
          "output_type": "stream",
          "name": "stderr",
          "text": [
            "\r 21%|██        | 42/200 [02:13<07:34,  2.88s/it]"
          ]
        },
        {
          "output_type": "stream",
          "name": "stdout",
          "text": [
            "Validation Loss decreased, saving new best model\n",
            "Epochs = 41, Validation Loss : 0.04376227781176567\n",
            "Epochs = 42, Training Loss : 0.04912140220403671\n"
          ]
        },
        {
          "output_type": "stream",
          "name": "stderr",
          "text": [
            "\r 22%|██▏       | 43/200 [02:16<07:34,  2.90s/it]"
          ]
        },
        {
          "output_type": "stream",
          "name": "stdout",
          "text": [
            "Validation Loss decreased, saving new best model\n",
            "Epochs = 42, Validation Loss : 0.04372072219848633\n",
            "Epochs = 43, Training Loss : 0.048280589282512665\n"
          ]
        },
        {
          "output_type": "stream",
          "name": "stderr",
          "text": [
            "\r 22%|██▏       | 44/200 [02:19<07:32,  2.90s/it]"
          ]
        },
        {
          "output_type": "stream",
          "name": "stdout",
          "text": [
            "Validation Loss decreased, saving new best model\n",
            "Epochs = 43, Validation Loss : 0.04364307224750519\n",
            "Epochs = 44, Training Loss : 0.04407016187906265\n"
          ]
        },
        {
          "output_type": "stream",
          "name": "stderr",
          "text": [
            "\r 22%|██▎       | 45/200 [02:22<07:27,  2.89s/it]"
          ]
        },
        {
          "output_type": "stream",
          "name": "stdout",
          "text": [
            "Validation Loss decreased, saving new best model\n",
            "Epochs = 44, Validation Loss : 0.04349220544099808\n",
            "Epochs = 45, Training Loss : 0.05083514377474785\n"
          ]
        },
        {
          "output_type": "stream",
          "name": "stderr",
          "text": [
            "\r 23%|██▎       | 46/200 [02:25<07:23,  2.88s/it]"
          ]
        },
        {
          "output_type": "stream",
          "name": "stdout",
          "text": [
            "Validation Loss decreased, saving new best model\n",
            "Epochs = 45, Validation Loss : 0.043424684554338455\n",
            "Epochs = 46, Training Loss : 0.052037060260772705\n"
          ]
        },
        {
          "output_type": "stream",
          "name": "stderr",
          "text": [
            "\r 24%|██▎       | 47/200 [02:27<07:20,  2.88s/it]"
          ]
        },
        {
          "output_type": "stream",
          "name": "stdout",
          "text": [
            "Validation Loss decreased, saving new best model\n",
            "Epochs = 46, Validation Loss : 0.04341881349682808\n",
            "Epochs = 47, Training Loss : 0.05085810273885727\n"
          ]
        },
        {
          "output_type": "stream",
          "name": "stderr",
          "text": [
            "\r 24%|██▍       | 48/200 [02:31<07:29,  2.96s/it]"
          ]
        },
        {
          "output_type": "stream",
          "name": "stdout",
          "text": [
            "Validation Loss decreased, saving new best model\n",
            "Epochs = 47, Validation Loss : 0.043422821909189224\n",
            "Epochs = 48, Training Loss : 0.03795330971479416\n"
          ]
        },
        {
          "output_type": "stream",
          "name": "stderr",
          "text": [
            "\r 24%|██▍       | 49/200 [02:33<07:22,  2.93s/it]"
          ]
        },
        {
          "output_type": "stream",
          "name": "stdout",
          "text": [
            "Validation Loss decreased, saving new best model\n",
            "Epochs = 48, Validation Loss : 0.04334535077214241\n",
            "Epochs = 49, Training Loss : 0.04978568106889725\n"
          ]
        },
        {
          "output_type": "stream",
          "name": "stderr",
          "text": [
            "\r 25%|██▌       | 50/200 [02:36<07:17,  2.92s/it]"
          ]
        },
        {
          "output_type": "stream",
          "name": "stdout",
          "text": [
            "Validation Loss decreased, saving new best model\n",
            "Epochs = 49, Validation Loss : 0.043303754180669785\n",
            "Epochs = 50, Training Loss : 0.042445581406354904\n"
          ]
        },
        {
          "output_type": "stream",
          "name": "stderr",
          "text": [
            "\r 26%|██▌       | 51/200 [02:39<07:12,  2.90s/it]"
          ]
        },
        {
          "output_type": "stream",
          "name": "stdout",
          "text": [
            "Validation Loss decreased, saving new best model\n",
            "Epochs = 50, Validation Loss : 0.0432690754532814\n",
            "Epochs = 51, Training Loss : 0.04989912360906601\n"
          ]
        },
        {
          "output_type": "stream",
          "name": "stderr",
          "text": [
            "\r 26%|██▌       | 52/200 [02:42<07:07,  2.89s/it]"
          ]
        },
        {
          "output_type": "stream",
          "name": "stdout",
          "text": [
            "Validation Loss decreased, saving new best model\n",
            "Epochs = 51, Validation Loss : 0.043251439929008484\n",
            "Epochs = 52, Training Loss : 0.0527852438390255\n"
          ]
        },
        {
          "output_type": "stream",
          "name": "stderr",
          "text": [
            "\r 26%|██▋       | 53/200 [02:45<07:02,  2.87s/it]"
          ]
        },
        {
          "output_type": "stream",
          "name": "stdout",
          "text": [
            "Validation Loss decreased, saving new best model\n",
            "Epochs = 52, Validation Loss : 0.04320814460515976\n",
            "Epochs = 53, Training Loss : 0.044108107686042786\n"
          ]
        },
        {
          "output_type": "stream",
          "name": "stderr",
          "text": [
            "\r 27%|██▋       | 54/200 [02:48<07:00,  2.88s/it]"
          ]
        },
        {
          "output_type": "stream",
          "name": "stdout",
          "text": [
            "Validation Loss decreased, saving new best model\n",
            "Epochs = 53, Validation Loss : 0.04315970465540886\n",
            "Epochs = 54, Training Loss : 0.052937768399715424\n"
          ]
        },
        {
          "output_type": "stream",
          "name": "stderr",
          "text": [
            "\r 28%|██▊       | 55/200 [02:51<06:55,  2.87s/it]"
          ]
        },
        {
          "output_type": "stream",
          "name": "stdout",
          "text": [
            "Validation Loss decreased, saving new best model\n",
            "Epochs = 54, Validation Loss : 0.043145276606082916\n",
            "Epochs = 55, Training Loss : 0.05235814303159714\n"
          ]
        },
        {
          "output_type": "stream",
          "name": "stderr",
          "text": [
            "\r 28%|██▊       | 56/200 [02:53<06:52,  2.87s/it]"
          ]
        },
        {
          "output_type": "stream",
          "name": "stdout",
          "text": [
            "Validation Loss decreased, saving new best model\n",
            "Epochs = 55, Validation Loss : 0.04319552332162857\n",
            "Epochs = 56, Training Loss : 0.04440799355506897\n"
          ]
        },
        {
          "output_type": "stream",
          "name": "stderr",
          "text": [
            "\r 28%|██▊       | 57/200 [02:56<06:50,  2.87s/it]"
          ]
        },
        {
          "output_type": "stream",
          "name": "stdout",
          "text": [
            "Validation Loss decreased, saving new best model\n",
            "Epochs = 56, Validation Loss : 0.04311981052160263\n",
            "Epochs = 57, Training Loss : 0.048655830323696136\n"
          ]
        },
        {
          "output_type": "stream",
          "name": "stderr",
          "text": [
            "\r 29%|██▉       | 58/200 [02:59<06:49,  2.88s/it]"
          ]
        },
        {
          "output_type": "stream",
          "name": "stdout",
          "text": [
            "Validation Loss decreased, saving new best model\n",
            "Epochs = 57, Validation Loss : 0.04308147355914116\n",
            "Epochs = 58, Training Loss : 0.052420854568481445\n"
          ]
        },
        {
          "output_type": "stream",
          "name": "stderr",
          "text": [
            "\r 30%|██▉       | 59/200 [03:02<06:46,  2.88s/it]"
          ]
        },
        {
          "output_type": "stream",
          "name": "stdout",
          "text": [
            "Validation Loss decreased, saving new best model\n",
            "Epochs = 58, Validation Loss : 0.04306784272193909\n",
            "Epochs = 59, Training Loss : 0.044933002442121506\n"
          ]
        },
        {
          "output_type": "stream",
          "name": "stderr",
          "text": [
            "\r 30%|███       | 60/200 [03:05<06:43,  2.88s/it]"
          ]
        },
        {
          "output_type": "stream",
          "name": "stdout",
          "text": [
            "Validation Loss decreased, saving new best model\n",
            "Epochs = 59, Validation Loss : 0.04308338835835457\n",
            "Epochs = 60, Training Loss : 0.05860351771116257\n"
          ]
        },
        {
          "output_type": "stream",
          "name": "stderr",
          "text": [
            "\r 30%|███       | 61/200 [03:08<06:43,  2.90s/it]"
          ]
        },
        {
          "output_type": "stream",
          "name": "stdout",
          "text": [
            "Validation Loss decreased, saving new best model\n",
            "Epochs = 60, Validation Loss : 0.043149806559085846\n",
            "Epochs = 61, Training Loss : 0.044805701822042465\n"
          ]
        },
        {
          "output_type": "stream",
          "name": "stderr",
          "text": [
            "\r 31%|███       | 62/200 [03:11<06:39,  2.89s/it]"
          ]
        },
        {
          "output_type": "stream",
          "name": "stdout",
          "text": [
            "Validation Loss decreased, saving new best model\n",
            "Epochs = 61, Validation Loss : 0.043013449758291245\n",
            "Epochs = 62, Training Loss : 0.0401102676987648\n"
          ]
        },
        {
          "output_type": "stream",
          "name": "stderr",
          "text": [
            "\r 32%|███▏      | 63/200 [03:14<06:34,  2.88s/it]"
          ]
        },
        {
          "output_type": "stream",
          "name": "stdout",
          "text": [
            "Validation Loss decreased, saving new best model\n",
            "Epochs = 62, Validation Loss : 0.04302035644650459\n",
            "Epochs = 63, Training Loss : 0.05742379277944565\n"
          ]
        },
        {
          "output_type": "stream",
          "name": "stderr",
          "text": [
            "\r 32%|███▏      | 64/200 [03:17<06:36,  2.92s/it]"
          ]
        },
        {
          "output_type": "stream",
          "name": "stdout",
          "text": [
            "Validation Loss decreased, saving new best model\n",
            "Epochs = 63, Validation Loss : 0.04299886152148247\n",
            "Epochs = 64, Training Loss : 0.051064323633909225\n"
          ]
        },
        {
          "output_type": "stream",
          "name": "stderr",
          "text": [
            "\r 32%|███▎      | 65/200 [03:20<07:06,  3.16s/it]"
          ]
        },
        {
          "output_type": "stream",
          "name": "stdout",
          "text": [
            "Validation Loss decreased, saving new best model\n",
            "Epochs = 64, Validation Loss : 0.04294345900416374\n",
            "Epochs = 65, Training Loss : 0.05666940659284592\n"
          ]
        },
        {
          "output_type": "stream",
          "name": "stderr",
          "text": [
            "\r 33%|███▎      | 66/200 [03:23<06:51,  3.07s/it]"
          ]
        },
        {
          "output_type": "stream",
          "name": "stdout",
          "text": [
            "Validation Loss decreased, saving new best model\n",
            "Epochs = 65, Validation Loss : 0.04291318729519844\n",
            "Epochs = 66, Training Loss : 0.0439608208835125\n"
          ]
        },
        {
          "output_type": "stream",
          "name": "stderr",
          "text": [
            "\r 34%|███▎      | 67/200 [03:26<06:41,  3.02s/it]"
          ]
        },
        {
          "output_type": "stream",
          "name": "stdout",
          "text": [
            "Validation Loss decreased, saving new best model\n",
            "Epochs = 66, Validation Loss : 0.04290971904993057\n",
            "Epochs = 67, Training Loss : 0.0330493301153183\n"
          ]
        },
        {
          "output_type": "stream",
          "name": "stderr",
          "text": [
            "\r 34%|███▍      | 68/200 [03:29<06:31,  2.96s/it]"
          ]
        },
        {
          "output_type": "stream",
          "name": "stdout",
          "text": [
            "Validation Loss decreased, saving new best model\n",
            "Epochs = 67, Validation Loss : 0.04287133738398552\n",
            "Epochs = 68, Training Loss : 0.050923340022563934\n"
          ]
        },
        {
          "output_type": "stream",
          "name": "stderr",
          "text": [
            "\r 34%|███▍      | 69/200 [03:32<06:23,  2.93s/it]"
          ]
        },
        {
          "output_type": "stream",
          "name": "stdout",
          "text": [
            "Validation Loss decreased, saving new best model\n",
            "Epochs = 68, Validation Loss : 0.04288366064429283\n",
            "Epochs = 69, Training Loss : 0.04687461256980896\n"
          ]
        },
        {
          "output_type": "stream",
          "name": "stderr",
          "text": [
            "\r 35%|███▌      | 70/200 [03:35<06:15,  2.89s/it]"
          ]
        },
        {
          "output_type": "stream",
          "name": "stdout",
          "text": [
            "Validation Loss decreased, saving new best model\n",
            "Epochs = 69, Validation Loss : 0.04287721589207649\n",
            "Epochs = 70, Training Loss : 0.04954586550593376\n"
          ]
        },
        {
          "output_type": "stream",
          "name": "stderr",
          "text": [
            "\r 36%|███▌      | 71/200 [03:38<06:10,  2.87s/it]"
          ]
        },
        {
          "output_type": "stream",
          "name": "stdout",
          "text": [
            "Validation Loss decreased, saving new best model\n",
            "Epochs = 70, Validation Loss : 0.04283836483955383\n",
            "Epochs = 71, Training Loss : 0.05155549570918083\n"
          ]
        },
        {
          "output_type": "stream",
          "name": "stderr",
          "text": [
            "\r 36%|███▌      | 72/200 [03:40<06:08,  2.88s/it]"
          ]
        },
        {
          "output_type": "stream",
          "name": "stdout",
          "text": [
            "Validation Loss decreased, saving new best model\n",
            "Epochs = 71, Validation Loss : 0.042847890406847\n",
            "Epochs = 72, Training Loss : 0.04528237506747246\n"
          ]
        },
        {
          "output_type": "stream",
          "name": "stderr",
          "text": [
            "\r 36%|███▋      | 73/200 [03:43<06:03,  2.86s/it]"
          ]
        },
        {
          "output_type": "stream",
          "name": "stdout",
          "text": [
            "Validation Loss decreased, saving new best model\n",
            "Epochs = 72, Validation Loss : 0.04290342703461647\n",
            "Epochs = 73, Training Loss : 0.05061602592468262\n"
          ]
        },
        {
          "output_type": "stream",
          "name": "stderr",
          "text": [
            "\r 37%|███▋      | 74/200 [03:46<06:00,  2.86s/it]"
          ]
        },
        {
          "output_type": "stream",
          "name": "stdout",
          "text": [
            "Validation Loss decreased, saving new best model\n",
            "Epochs = 73, Validation Loss : 0.042812153697013855\n",
            "Epochs = 74, Training Loss : 0.04430927336215973\n"
          ]
        },
        {
          "output_type": "stream",
          "name": "stderr",
          "text": [
            "\r 38%|███▊      | 75/200 [03:49<05:56,  2.86s/it]"
          ]
        },
        {
          "output_type": "stream",
          "name": "stdout",
          "text": [
            "Validation Loss decreased, saving new best model\n",
            "Epochs = 74, Validation Loss : 0.04301070421934128\n",
            "Epochs = 75, Training Loss : 0.04780488461256027\n"
          ]
        },
        {
          "output_type": "stream",
          "name": "stderr",
          "text": [
            "\r 38%|███▊      | 76/200 [03:52<05:53,  2.85s/it]"
          ]
        },
        {
          "output_type": "stream",
          "name": "stdout",
          "text": [
            "Validation Loss decreased, saving new best model\n",
            "Epochs = 75, Validation Loss : 0.043155960738658905\n",
            "Epochs = 76, Training Loss : 0.044976748526096344\n"
          ]
        },
        {
          "output_type": "stream",
          "name": "stderr",
          "text": [
            "\r 38%|███▊      | 77/200 [03:55<05:52,  2.86s/it]"
          ]
        },
        {
          "output_type": "stream",
          "name": "stdout",
          "text": [
            "Validation Loss decreased, saving new best model\n",
            "Epochs = 76, Validation Loss : 0.04278530925512314\n",
            "Epochs = 77, Training Loss : 0.05280709266662598\n"
          ]
        },
        {
          "output_type": "stream",
          "name": "stderr",
          "text": [
            "\r 39%|███▉      | 78/200 [03:58<05:48,  2.86s/it]"
          ]
        },
        {
          "output_type": "stream",
          "name": "stdout",
          "text": [
            "Validation Loss decreased, saving new best model\n",
            "Epochs = 77, Validation Loss : 0.04285420477390289\n",
            "Epochs = 78, Training Loss : 0.04622119665145874\n"
          ]
        },
        {
          "output_type": "stream",
          "name": "stderr",
          "text": [
            "\r 40%|███▉      | 79/200 [04:00<05:45,  2.86s/it]"
          ]
        },
        {
          "output_type": "stream",
          "name": "stdout",
          "text": [
            "Validation Loss decreased, saving new best model\n",
            "Epochs = 78, Validation Loss : 0.04274330660700798\n",
            "Epochs = 79, Training Loss : 0.04846931993961334\n"
          ]
        },
        {
          "output_type": "stream",
          "name": "stderr",
          "text": [
            "\r 40%|████      | 80/200 [04:03<05:42,  2.85s/it]"
          ]
        },
        {
          "output_type": "stream",
          "name": "stdout",
          "text": [
            "Validation Loss decreased, saving new best model\n",
            "Epochs = 79, Validation Loss : 0.04274556413292885\n",
            "Epochs = 80, Training Loss : 0.058678410947322845\n"
          ]
        },
        {
          "output_type": "stream",
          "name": "stderr",
          "text": [
            "\r 40%|████      | 81/200 [04:06<05:39,  2.85s/it]"
          ]
        },
        {
          "output_type": "stream",
          "name": "stdout",
          "text": [
            "Validation Loss decreased, saving new best model\n",
            "Epochs = 80, Validation Loss : 0.042753927409648895\n",
            "Epochs = 81, Training Loss : 0.04374229907989502\n"
          ]
        },
        {
          "output_type": "stream",
          "name": "stderr",
          "text": [
            "\r 41%|████      | 82/200 [04:09<05:39,  2.87s/it]"
          ]
        },
        {
          "output_type": "stream",
          "name": "stdout",
          "text": [
            "Validation Loss decreased, saving new best model\n",
            "Epochs = 81, Validation Loss : 0.04275495931506157\n",
            "Epochs = 82, Training Loss : 0.053856655955314636\n"
          ]
        },
        {
          "output_type": "stream",
          "name": "stderr",
          "text": [
            "\r 42%|████▏     | 83/200 [04:12<05:35,  2.87s/it]"
          ]
        },
        {
          "output_type": "stream",
          "name": "stdout",
          "text": [
            "Validation Loss decreased, saving new best model\n",
            "Epochs = 82, Validation Loss : 0.04277115315198898\n",
            "Epochs = 83, Training Loss : 0.04173843562602997\n"
          ]
        },
        {
          "output_type": "stream",
          "name": "stderr",
          "text": [
            "\r 42%|████▏     | 84/200 [04:15<05:32,  2.87s/it]"
          ]
        },
        {
          "output_type": "stream",
          "name": "stdout",
          "text": [
            "Validation Loss decreased, saving new best model\n",
            "Epochs = 83, Validation Loss : 0.042701356112957\n",
            "Epochs = 84, Training Loss : 0.052441440522670746\n"
          ]
        },
        {
          "output_type": "stream",
          "name": "stderr",
          "text": [
            "\r 42%|████▎     | 85/200 [04:18<05:30,  2.88s/it]"
          ]
        },
        {
          "output_type": "stream",
          "name": "stdout",
          "text": [
            "Validation Loss decreased, saving new best model\n",
            "Epochs = 84, Validation Loss : 0.04271944239735603\n",
            "Epochs = 85, Training Loss : 0.0587739571928978\n"
          ]
        },
        {
          "output_type": "stream",
          "name": "stderr",
          "text": [
            "\r 43%|████▎     | 86/200 [04:21<05:30,  2.90s/it]"
          ]
        },
        {
          "output_type": "stream",
          "name": "stdout",
          "text": [
            "Validation Loss decreased, saving new best model\n",
            "Epochs = 85, Validation Loss : 0.04287116229534149\n",
            "Epochs = 86, Training Loss : 0.041918545961380005\n"
          ]
        },
        {
          "output_type": "stream",
          "name": "stderr",
          "text": [
            "\r 44%|████▎     | 87/200 [04:23<05:26,  2.89s/it]"
          ]
        },
        {
          "output_type": "stream",
          "name": "stdout",
          "text": [
            "Validation Loss decreased, saving new best model\n",
            "Epochs = 86, Validation Loss : 0.04270091652870178\n",
            "Epochs = 87, Training Loss : 0.04392912983894348\n"
          ]
        },
        {
          "output_type": "stream",
          "name": "stderr",
          "text": [
            "\r 44%|████▍     | 88/200 [04:26<05:23,  2.89s/it]"
          ]
        },
        {
          "output_type": "stream",
          "name": "stdout",
          "text": [
            "Validation Loss decreased, saving new best model\n",
            "Epochs = 87, Validation Loss : 0.04279933497309685\n",
            "Epochs = 88, Training Loss : 0.043840449303388596\n"
          ]
        },
        {
          "output_type": "stream",
          "name": "stderr",
          "text": [
            "\r 44%|████▍     | 89/200 [04:29<05:20,  2.88s/it]"
          ]
        },
        {
          "output_type": "stream",
          "name": "stdout",
          "text": [
            "Validation Loss decreased, saving new best model\n",
            "Epochs = 88, Validation Loss : 0.04266791418194771\n",
            "Epochs = 89, Training Loss : 0.04091136157512665\n"
          ]
        },
        {
          "output_type": "stream",
          "name": "stderr",
          "text": [
            "\r 45%|████▌     | 90/200 [04:32<05:16,  2.88s/it]"
          ]
        },
        {
          "output_type": "stream",
          "name": "stdout",
          "text": [
            "Validation Loss decreased, saving new best model\n",
            "Epochs = 89, Validation Loss : 0.04266645014286041\n",
            "Epochs = 90, Training Loss : 0.041121385991573334\n"
          ]
        },
        {
          "output_type": "stream",
          "name": "stderr",
          "text": [
            "\r 46%|████▌     | 91/200 [04:35<05:13,  2.88s/it]"
          ]
        },
        {
          "output_type": "stream",
          "name": "stdout",
          "text": [
            "Validation Loss decreased, saving new best model\n",
            "Epochs = 90, Validation Loss : 0.04265590012073517\n",
            "Epochs = 91, Training Loss : 0.05119801312685013\n"
          ]
        },
        {
          "output_type": "stream",
          "name": "stderr",
          "text": [
            "\r 46%|████▌     | 92/200 [04:38<05:10,  2.88s/it]"
          ]
        },
        {
          "output_type": "stream",
          "name": "stdout",
          "text": [
            "Validation Loss decreased, saving new best model\n",
            "Epochs = 91, Validation Loss : 0.04273628070950508\n",
            "Epochs = 92, Training Loss : 0.04585285112261772\n"
          ]
        },
        {
          "output_type": "stream",
          "name": "stderr",
          "text": [
            "\r 46%|████▋     | 93/200 [04:41<05:08,  2.88s/it]"
          ]
        },
        {
          "output_type": "stream",
          "name": "stdout",
          "text": [
            "Validation Loss decreased, saving new best model\n",
            "Epochs = 92, Validation Loss : 0.04271884635090828\n",
            "Epochs = 93, Training Loss : 0.040061257779598236\n"
          ]
        },
        {
          "output_type": "stream",
          "name": "stderr",
          "text": [
            "\r 47%|████▋     | 94/200 [04:44<05:04,  2.87s/it]"
          ]
        },
        {
          "output_type": "stream",
          "name": "stdout",
          "text": [
            "Validation Loss decreased, saving new best model\n",
            "Epochs = 93, Validation Loss : 0.042661067098379135\n",
            "Epochs = 94, Training Loss : 0.044322870671749115\n"
          ]
        },
        {
          "output_type": "stream",
          "name": "stderr",
          "text": [
            "\r 48%|████▊     | 95/200 [04:46<05:01,  2.87s/it]"
          ]
        },
        {
          "output_type": "stream",
          "name": "stdout",
          "text": [
            "Validation Loss decreased, saving new best model\n",
            "Epochs = 94, Validation Loss : 0.04264695569872856\n",
            "Epochs = 95, Training Loss : 0.051488667726516724\n"
          ]
        },
        {
          "output_type": "stream",
          "name": "stderr",
          "text": [
            "\r 48%|████▊     | 96/200 [04:49<04:57,  2.86s/it]"
          ]
        },
        {
          "output_type": "stream",
          "name": "stdout",
          "text": [
            "Validation Loss decreased, saving new best model\n",
            "Epochs = 95, Validation Loss : 0.04261745885014534\n",
            "Epochs = 96, Training Loss : 0.048796456307172775\n"
          ]
        },
        {
          "output_type": "stream",
          "name": "stderr",
          "text": [
            "\r 48%|████▊     | 97/200 [04:52<04:53,  2.85s/it]"
          ]
        },
        {
          "output_type": "stream",
          "name": "stdout",
          "text": [
            "Validation Loss decreased, saving new best model\n",
            "Epochs = 96, Validation Loss : 0.04261168837547302\n",
            "Epochs = 97, Training Loss : 0.046043455600738525\n"
          ]
        },
        {
          "output_type": "stream",
          "name": "stderr",
          "text": [
            "\r 49%|████▉     | 98/200 [04:55<04:51,  2.85s/it]"
          ]
        },
        {
          "output_type": "stream",
          "name": "stdout",
          "text": [
            "Validation Loss decreased, saving new best model\n",
            "Epochs = 97, Validation Loss : 0.042604755610227585\n",
            "Epochs = 98, Training Loss : 0.04641958326101303\n"
          ]
        },
        {
          "output_type": "stream",
          "name": "stderr",
          "text": [
            "\r 50%|████▉     | 99/200 [04:58<04:48,  2.86s/it]"
          ]
        },
        {
          "output_type": "stream",
          "name": "stdout",
          "text": [
            "Validation Loss decreased, saving new best model\n",
            "Epochs = 98, Validation Loss : 0.042598821222782135\n",
            "Epochs = 99, Training Loss : 0.044667065143585205\n"
          ]
        },
        {
          "output_type": "stream",
          "name": "stderr",
          "text": [
            "\r 50%|█████     | 100/200 [05:01<04:45,  2.85s/it]"
          ]
        },
        {
          "output_type": "stream",
          "name": "stdout",
          "text": [
            "Validation Loss decreased, saving new best model\n",
            "Epochs = 99, Validation Loss : 0.042589958757162094\n",
            "Epochs = 100, Training Loss : 0.04662186652421951\n"
          ]
        },
        {
          "output_type": "stream",
          "name": "stderr",
          "text": [
            "\r 50%|█████     | 101/200 [05:04<04:44,  2.87s/it]"
          ]
        },
        {
          "output_type": "stream",
          "name": "stdout",
          "text": [
            "Validation Loss decreased, saving new best model\n",
            "Epochs = 100, Validation Loss : 0.04258505254983902\n",
            "Epochs = 101, Training Loss : 0.04401717707514763\n"
          ]
        },
        {
          "output_type": "stream",
          "name": "stderr",
          "text": [
            "\r 51%|█████     | 102/200 [05:06<04:43,  2.89s/it]"
          ]
        },
        {
          "output_type": "stream",
          "name": "stdout",
          "text": [
            "Validation Loss decreased, saving new best model\n",
            "Epochs = 101, Validation Loss : 0.04259943962097168\n",
            "Epochs = 102, Training Loss : 0.05081654340028763\n"
          ]
        },
        {
          "output_type": "stream",
          "name": "stderr",
          "text": [
            "\r 52%|█████▏    | 103/200 [05:09<04:41,  2.90s/it]"
          ]
        },
        {
          "output_type": "stream",
          "name": "stdout",
          "text": [
            "Validation Loss decreased, saving new best model\n",
            "Epochs = 102, Validation Loss : 0.04256473109126091\n",
            "Epochs = 103, Training Loss : 0.04444371908903122\n"
          ]
        },
        {
          "output_type": "stream",
          "name": "stderr",
          "text": [
            "\r 52%|█████▏    | 104/200 [05:12<04:38,  2.90s/it]"
          ]
        },
        {
          "output_type": "stream",
          "name": "stdout",
          "text": [
            "Validation Loss decreased, saving new best model\n",
            "Epochs = 103, Validation Loss : 0.042611271142959595\n",
            "Epochs = 104, Training Loss : 0.05275469273328781\n"
          ]
        },
        {
          "output_type": "stream",
          "name": "stderr",
          "text": [
            "\r 52%|█████▎    | 105/200 [05:15<04:36,  2.91s/it]"
          ]
        },
        {
          "output_type": "stream",
          "name": "stdout",
          "text": [
            "Validation Loss decreased, saving new best model\n",
            "Epochs = 104, Validation Loss : 0.0425676666200161\n",
            "Epochs = 105, Training Loss : 0.04831808805465698\n"
          ]
        },
        {
          "output_type": "stream",
          "name": "stderr",
          "text": [
            "\r 53%|█████▎    | 106/200 [05:18<04:34,  2.92s/it]"
          ]
        },
        {
          "output_type": "stream",
          "name": "stdout",
          "text": [
            "Validation Loss decreased, saving new best model\n",
            "Epochs = 105, Validation Loss : 0.042609699070453644\n",
            "Epochs = 106, Training Loss : 0.05702963471412659\n"
          ]
        },
        {
          "output_type": "stream",
          "name": "stderr",
          "text": [
            "\r 54%|█████▎    | 107/200 [05:21<04:31,  2.92s/it]"
          ]
        },
        {
          "output_type": "stream",
          "name": "stdout",
          "text": [
            "Validation Loss decreased, saving new best model\n",
            "Epochs = 106, Validation Loss : 0.0427471399307251\n",
            "Epochs = 107, Training Loss : 0.05192659795284271\n"
          ]
        },
        {
          "output_type": "stream",
          "name": "stderr",
          "text": [
            "\r 54%|█████▍    | 108/200 [05:24<04:27,  2.91s/it]"
          ]
        },
        {
          "output_type": "stream",
          "name": "stdout",
          "text": [
            "Validation Loss decreased, saving new best model\n",
            "Epochs = 107, Validation Loss : 0.04259476810693741\n",
            "Epochs = 108, Training Loss : 0.04978737235069275\n"
          ]
        },
        {
          "output_type": "stream",
          "name": "stderr",
          "text": [
            "\r 55%|█████▍    | 109/200 [05:27<04:23,  2.90s/it]"
          ]
        },
        {
          "output_type": "stream",
          "name": "stdout",
          "text": [
            "Validation Loss decreased, saving new best model\n",
            "Epochs = 108, Validation Loss : 0.04253124073147774\n",
            "Epochs = 109, Training Loss : 0.04656869173049927\n"
          ]
        },
        {
          "output_type": "stream",
          "name": "stderr",
          "text": [
            "\r 55%|█████▌    | 110/200 [05:30<04:19,  2.88s/it]"
          ]
        },
        {
          "output_type": "stream",
          "name": "stdout",
          "text": [
            "Validation Loss decreased, saving new best model\n",
            "Epochs = 109, Validation Loss : 0.042600031942129135\n",
            "Epochs = 110, Training Loss : 0.05285636708140373\n"
          ]
        },
        {
          "output_type": "stream",
          "name": "stderr",
          "text": [
            "\r 56%|█████▌    | 111/200 [05:33<04:15,  2.87s/it]"
          ]
        },
        {
          "output_type": "stream",
          "name": "stdout",
          "text": [
            "Validation Loss decreased, saving new best model\n",
            "Epochs = 110, Validation Loss : 0.042521145194768906\n",
            "Epochs = 111, Training Loss : 0.053577713668346405\n"
          ]
        },
        {
          "output_type": "stream",
          "name": "stderr",
          "text": [
            "\r 56%|█████▌    | 112/200 [05:35<04:11,  2.86s/it]"
          ]
        },
        {
          "output_type": "stream",
          "name": "stdout",
          "text": [
            "Validation Loss decreased, saving new best model\n",
            "Epochs = 111, Validation Loss : 0.042542558163404465\n",
            "Epochs = 112, Training Loss : 0.050517380237579346\n"
          ]
        },
        {
          "output_type": "stream",
          "name": "stderr",
          "text": [
            "\r 56%|█████▋    | 113/200 [05:38<04:08,  2.85s/it]"
          ]
        },
        {
          "output_type": "stream",
          "name": "stdout",
          "text": [
            "Validation Loss decreased, saving new best model\n",
            "Epochs = 112, Validation Loss : 0.0425073467195034\n",
            "Epochs = 113, Training Loss : 0.05421445891261101\n"
          ]
        },
        {
          "output_type": "stream",
          "name": "stderr",
          "text": [
            "\r 57%|█████▋    | 114/200 [05:41<04:05,  2.86s/it]"
          ]
        },
        {
          "output_type": "stream",
          "name": "stdout",
          "text": [
            "Validation Loss decreased, saving new best model\n",
            "Epochs = 113, Validation Loss : 0.042508259415626526\n",
            "Epochs = 114, Training Loss : 0.048950936645269394\n"
          ]
        },
        {
          "output_type": "stream",
          "name": "stderr",
          "text": [
            "\r 57%|█████▊    | 115/200 [05:44<04:02,  2.85s/it]"
          ]
        },
        {
          "output_type": "stream",
          "name": "stdout",
          "text": [
            "Validation Loss decreased, saving new best model\n",
            "Epochs = 114, Validation Loss : 0.0425015464425087\n",
            "Epochs = 115, Training Loss : 0.044349417090415955\n"
          ]
        },
        {
          "output_type": "stream",
          "name": "stderr",
          "text": [
            "\r 58%|█████▊    | 116/200 [05:47<04:00,  2.87s/it]"
          ]
        },
        {
          "output_type": "stream",
          "name": "stdout",
          "text": [
            "Validation Loss decreased, saving new best model\n",
            "Epochs = 115, Validation Loss : 0.04249090328812599\n",
            "Epochs = 116, Training Loss : 0.04888482391834259\n"
          ]
        },
        {
          "output_type": "stream",
          "name": "stderr",
          "text": [
            "\r 58%|█████▊    | 117/200 [05:50<03:58,  2.87s/it]"
          ]
        },
        {
          "output_type": "stream",
          "name": "stdout",
          "text": [
            "Validation Loss decreased, saving new best model\n",
            "Epochs = 116, Validation Loss : 0.04249102622270584\n",
            "Epochs = 117, Training Loss : 0.04416860267519951\n"
          ]
        },
        {
          "output_type": "stream",
          "name": "stderr",
          "text": [
            "\r 59%|█████▉    | 118/200 [05:53<03:54,  2.86s/it]"
          ]
        },
        {
          "output_type": "stream",
          "name": "stdout",
          "text": [
            "Validation Loss decreased, saving new best model\n",
            "Epochs = 117, Validation Loss : 0.042575735598802567\n",
            "Epochs = 118, Training Loss : 0.03451738879084587\n"
          ]
        },
        {
          "output_type": "stream",
          "name": "stderr",
          "text": [
            "\r 60%|█████▉    | 119/200 [05:55<03:50,  2.85s/it]"
          ]
        },
        {
          "output_type": "stream",
          "name": "stdout",
          "text": [
            "Validation Loss decreased, saving new best model\n",
            "Epochs = 118, Validation Loss : 0.042587149888277054\n",
            "Epochs = 119, Training Loss : 0.038137286901474\n"
          ]
        },
        {
          "output_type": "stream",
          "name": "stderr",
          "text": [
            "\r 60%|██████    | 120/200 [05:58<03:48,  2.85s/it]"
          ]
        },
        {
          "output_type": "stream",
          "name": "stdout",
          "text": [
            "Validation Loss decreased, saving new best model\n",
            "Epochs = 119, Validation Loss : 0.04247262328863144\n",
            "Epochs = 120, Training Loss : 0.06662039458751678\n"
          ]
        },
        {
          "output_type": "stream",
          "name": "stderr",
          "text": [
            "\r 60%|██████    | 121/200 [06:01<03:44,  2.84s/it]"
          ]
        },
        {
          "output_type": "stream",
          "name": "stdout",
          "text": [
            "Validation Loss decreased, saving new best model\n",
            "Epochs = 120, Validation Loss : 0.042525116354227066\n",
            "Epochs = 121, Training Loss : 0.05197175592184067\n"
          ]
        },
        {
          "output_type": "stream",
          "name": "stderr",
          "text": [
            "\r 61%|██████    | 122/200 [06:05<04:15,  3.28s/it]"
          ]
        },
        {
          "output_type": "stream",
          "name": "stdout",
          "text": [
            "Validation Loss decreased, saving new best model\n",
            "Epochs = 121, Validation Loss : 0.042478062212467194\n",
            "Epochs = 122, Training Loss : 0.0540233850479126\n"
          ]
        },
        {
          "output_type": "stream",
          "name": "stderr",
          "text": [
            "\r 62%|██████▏   | 123/200 [06:08<04:03,  3.17s/it]"
          ]
        },
        {
          "output_type": "stream",
          "name": "stdout",
          "text": [
            "Validation Loss decreased, saving new best model\n",
            "Epochs = 122, Validation Loss : 0.04251766949892044\n",
            "Epochs = 123, Training Loss : 0.05226365849375725\n"
          ]
        },
        {
          "output_type": "stream",
          "name": "stderr",
          "text": [
            "\r 62%|██████▏   | 124/200 [06:11<03:53,  3.07s/it]"
          ]
        },
        {
          "output_type": "stream",
          "name": "stdout",
          "text": [
            "Validation Loss decreased, saving new best model\n",
            "Epochs = 123, Validation Loss : 0.042490404099226\n",
            "Epochs = 124, Training Loss : 0.03778725489974022\n"
          ]
        },
        {
          "output_type": "stream",
          "name": "stderr",
          "text": [
            "\r 62%|██████▎   | 125/200 [06:14<03:46,  3.03s/it]"
          ]
        },
        {
          "output_type": "stream",
          "name": "stdout",
          "text": [
            "Validation Loss decreased, saving new best model\n",
            "Epochs = 124, Validation Loss : 0.04247463494539261\n",
            "Epochs = 125, Training Loss : 0.058063723146915436\n"
          ]
        },
        {
          "output_type": "stream",
          "name": "stderr",
          "text": [
            "\r 63%|██████▎   | 126/200 [06:17<03:40,  2.97s/it]"
          ]
        },
        {
          "output_type": "stream",
          "name": "stdout",
          "text": [
            "Validation Loss decreased, saving new best model\n",
            "Epochs = 125, Validation Loss : 0.04256691783666611\n",
            "Epochs = 126, Training Loss : 0.04625275731086731\n"
          ]
        },
        {
          "output_type": "stream",
          "name": "stderr",
          "text": [
            "\r 64%|██████▎   | 127/200 [06:20<03:35,  2.95s/it]"
          ]
        },
        {
          "output_type": "stream",
          "name": "stdout",
          "text": [
            "Validation Loss decreased, saving new best model\n",
            "Epochs = 126, Validation Loss : 0.041933633387088776\n",
            "Epochs = 127, Training Loss : 0.048052869737148285\n"
          ]
        },
        {
          "output_type": "stream",
          "name": "stderr",
          "text": [
            "\r 64%|██████▍   | 128/200 [06:23<03:43,  3.10s/it]"
          ]
        },
        {
          "output_type": "stream",
          "name": "stdout",
          "text": [
            "Validation Loss decreased, saving new best model\n",
            "Epochs = 127, Validation Loss : 0.0380459725856781\n",
            "Epochs = 128, Training Loss : 0.03355743736028671\n"
          ]
        },
        {
          "output_type": "stream",
          "name": "stderr",
          "text": [
            "\r 64%|██████▍   | 129/200 [06:26<03:40,  3.11s/it]"
          ]
        },
        {
          "output_type": "stream",
          "name": "stdout",
          "text": [
            "Validation Loss decreased, saving new best model\n",
            "Epochs = 128, Validation Loss : 0.03345232084393501\n",
            "Epochs = 129, Training Loss : 0.03555767238140106\n"
          ]
        },
        {
          "output_type": "stream",
          "name": "stderr",
          "text": [
            "\r 65%|██████▌   | 130/200 [06:29<03:32,  3.04s/it]"
          ]
        },
        {
          "output_type": "stream",
          "name": "stdout",
          "text": [
            "Validation Loss decreased, saving new best model\n",
            "Epochs = 129, Validation Loss : 0.026918375864624977\n",
            "Epochs = 130, Training Loss : 0.02894897572696209\n"
          ]
        },
        {
          "output_type": "stream",
          "name": "stderr",
          "text": [
            "\r 66%|██████▌   | 131/200 [06:32<03:25,  2.99s/it]"
          ]
        },
        {
          "output_type": "stream",
          "name": "stdout",
          "text": [
            "Validation Loss decreased, saving new best model\n",
            "Epochs = 130, Validation Loss : 0.024783892557024956\n",
            "Epochs = 131, Training Loss : 0.029746174812316895\n"
          ]
        },
        {
          "output_type": "stream",
          "name": "stderr",
          "text": [
            "\r 66%|██████▌   | 132/200 [06:35<03:21,  2.96s/it]"
          ]
        },
        {
          "output_type": "stream",
          "name": "stdout",
          "text": [
            "Validation Loss decreased, saving new best model\n",
            "Epochs = 131, Validation Loss : 0.023691626265645027\n",
            "Epochs = 132, Training Loss : 0.025564514100551605\n"
          ]
        },
        {
          "output_type": "stream",
          "name": "stderr",
          "text": [
            "\r 66%|██████▋   | 133/200 [06:38<03:16,  2.93s/it]"
          ]
        },
        {
          "output_type": "stream",
          "name": "stdout",
          "text": [
            "Validation Loss decreased, saving new best model\n",
            "Epochs = 132, Validation Loss : 0.023060142993927002\n",
            "Epochs = 133, Training Loss : 0.025379037484526634\n"
          ]
        },
        {
          "output_type": "stream",
          "name": "stderr",
          "text": [
            "\r 67%|██████▋   | 134/200 [06:41<03:12,  2.91s/it]"
          ]
        },
        {
          "output_type": "stream",
          "name": "stdout",
          "text": [
            "Validation Loss decreased, saving new best model\n",
            "Epochs = 133, Validation Loss : 0.0226605124771595\n",
            "Epochs = 134, Training Loss : 0.02717684768140316\n"
          ]
        },
        {
          "output_type": "stream",
          "name": "stderr",
          "text": [
            "\r 68%|██████▊   | 135/200 [06:44<03:08,  2.90s/it]"
          ]
        },
        {
          "output_type": "stream",
          "name": "stdout",
          "text": [
            "Validation Loss decreased, saving new best model\n",
            "Epochs = 134, Validation Loss : 0.022439109161496162\n",
            "Epochs = 135, Training Loss : 0.024686893448233604\n"
          ]
        },
        {
          "output_type": "stream",
          "name": "stderr",
          "text": [
            "\r 68%|██████▊   | 136/200 [06:46<03:04,  2.88s/it]"
          ]
        },
        {
          "output_type": "stream",
          "name": "stdout",
          "text": [
            "Validation Loss decreased, saving new best model\n",
            "Epochs = 135, Validation Loss : 0.022267738357186317\n",
            "Epochs = 136, Training Loss : 0.0254763625562191\n"
          ]
        },
        {
          "output_type": "stream",
          "name": "stderr",
          "text": [
            "\r 68%|██████▊   | 137/200 [06:49<03:01,  2.88s/it]"
          ]
        },
        {
          "output_type": "stream",
          "name": "stdout",
          "text": [
            "Validation Loss decreased, saving new best model\n",
            "Epochs = 136, Validation Loss : 0.022101353853940964\n",
            "Epochs = 137, Training Loss : 0.025259997695684433\n"
          ]
        },
        {
          "output_type": "stream",
          "name": "stderr",
          "text": [
            "\r 69%|██████▉   | 138/200 [06:52<02:58,  2.88s/it]"
          ]
        },
        {
          "output_type": "stream",
          "name": "stdout",
          "text": [
            "Validation Loss decreased, saving new best model\n",
            "Epochs = 137, Validation Loss : 0.02206370048224926\n",
            "Epochs = 138, Training Loss : 0.028959423303604126\n"
          ]
        },
        {
          "output_type": "stream",
          "name": "stderr",
          "text": [
            "\r 70%|██████▉   | 139/200 [06:55<03:02,  2.99s/it]"
          ]
        },
        {
          "output_type": "stream",
          "name": "stdout",
          "text": [
            "Validation Loss decreased, saving new best model\n",
            "Epochs = 138, Validation Loss : 0.02203516475856304\n",
            "Epochs = 139, Training Loss : 0.024201421067118645\n"
          ]
        },
        {
          "output_type": "stream",
          "name": "stderr",
          "text": [
            "\r 70%|███████   | 140/200 [06:58<02:57,  2.96s/it]"
          ]
        },
        {
          "output_type": "stream",
          "name": "stdout",
          "text": [
            "Validation Loss decreased, saving new best model\n",
            "Epochs = 139, Validation Loss : 0.021984370425343513\n",
            "Epochs = 140, Training Loss : 0.025894757360219955\n"
          ]
        },
        {
          "output_type": "stream",
          "name": "stderr",
          "text": [
            "\r 70%|███████   | 141/200 [07:01<02:52,  2.93s/it]"
          ]
        },
        {
          "output_type": "stream",
          "name": "stdout",
          "text": [
            "Validation Loss decreased, saving new best model\n",
            "Epochs = 140, Validation Loss : 0.02191201038658619\n",
            "Epochs = 141, Training Loss : 0.035056352615356445\n"
          ]
        },
        {
          "output_type": "stream",
          "name": "stderr",
          "text": [
            "\r 71%|███████   | 142/200 [07:04<02:48,  2.90s/it]"
          ]
        },
        {
          "output_type": "stream",
          "name": "stdout",
          "text": [
            "Validation Loss decreased, saving new best model\n",
            "Epochs = 141, Validation Loss : 0.02189880609512329\n",
            "Epochs = 142, Training Loss : 0.025566091760993004\n"
          ]
        },
        {
          "output_type": "stream",
          "name": "stderr",
          "text": [
            "\r 72%|███████▏  | 143/200 [07:07<02:45,  2.91s/it]"
          ]
        },
        {
          "output_type": "stream",
          "name": "stdout",
          "text": [
            "Validation Loss decreased, saving new best model\n",
            "Epochs = 142, Validation Loss : 0.02187344990670681\n",
            "Epochs = 143, Training Loss : 0.025802111253142357\n"
          ]
        },
        {
          "output_type": "stream",
          "name": "stderr",
          "text": [
            "\r 72%|███████▏  | 144/200 [07:10<02:42,  2.89s/it]"
          ]
        },
        {
          "output_type": "stream",
          "name": "stdout",
          "text": [
            "Validation Loss decreased, saving new best model\n",
            "Epochs = 143, Validation Loss : 0.021859394386410713\n",
            "Epochs = 144, Training Loss : 0.025734132155776024\n"
          ]
        },
        {
          "output_type": "stream",
          "name": "stderr",
          "text": [
            "\r 72%|███████▎  | 145/200 [07:13<02:38,  2.88s/it]"
          ]
        },
        {
          "output_type": "stream",
          "name": "stdout",
          "text": [
            "Validation Loss decreased, saving new best model\n",
            "Epochs = 144, Validation Loss : 0.021840417757630348\n",
            "Epochs = 145, Training Loss : 0.02493290603160858\n"
          ]
        },
        {
          "output_type": "stream",
          "name": "stderr",
          "text": [
            "\r 73%|███████▎  | 146/200 [07:16<02:36,  2.90s/it]"
          ]
        },
        {
          "output_type": "stream",
          "name": "stdout",
          "text": [
            "Validation Loss decreased, saving new best model\n",
            "Epochs = 145, Validation Loss : 0.02183561958372593\n",
            "Epochs = 146, Training Loss : 0.023572739213705063\n"
          ]
        },
        {
          "output_type": "stream",
          "name": "stderr",
          "text": [
            "\r 74%|███████▎  | 147/200 [07:19<02:34,  2.91s/it]"
          ]
        },
        {
          "output_type": "stream",
          "name": "stdout",
          "text": [
            "Validation Loss decreased, saving new best model\n",
            "Epochs = 146, Validation Loss : 0.02181764878332615\n",
            "Epochs = 147, Training Loss : 0.025540750473737717\n"
          ]
        },
        {
          "output_type": "stream",
          "name": "stderr",
          "text": [
            "\r 74%|███████▍  | 148/200 [07:21<02:31,  2.92s/it]"
          ]
        },
        {
          "output_type": "stream",
          "name": "stdout",
          "text": [
            "Validation Loss decreased, saving new best model\n",
            "Epochs = 147, Validation Loss : 0.021849408745765686\n",
            "Epochs = 148, Training Loss : 0.023129595443606377\n"
          ]
        },
        {
          "output_type": "stream",
          "name": "stderr",
          "text": [
            "\r 74%|███████▍  | 149/200 [07:24<02:27,  2.89s/it]"
          ]
        },
        {
          "output_type": "stream",
          "name": "stdout",
          "text": [
            "Validation Loss decreased, saving new best model\n",
            "Epochs = 148, Validation Loss : 0.021857932209968567\n",
            "Epochs = 149, Training Loss : 0.021621190011501312\n"
          ]
        },
        {
          "output_type": "stream",
          "name": "stderr",
          "text": [
            "\r 75%|███████▌  | 150/200 [07:27<02:23,  2.88s/it]"
          ]
        },
        {
          "output_type": "stream",
          "name": "stdout",
          "text": [
            "Validation Loss decreased, saving new best model\n",
            "Epochs = 149, Validation Loss : 0.02178882621228695\n",
            "Epochs = 150, Training Loss : 0.022754650563001633\n"
          ]
        },
        {
          "output_type": "stream",
          "name": "stderr",
          "text": [
            "\r 76%|███████▌  | 151/200 [07:30<02:20,  2.87s/it]"
          ]
        },
        {
          "output_type": "stream",
          "name": "stdout",
          "text": [
            "Validation Loss decreased, saving new best model\n",
            "Epochs = 150, Validation Loss : 0.021934134885668755\n",
            "Epochs = 151, Training Loss : 0.02856115996837616\n"
          ]
        },
        {
          "output_type": "stream",
          "name": "stderr",
          "text": [
            "\r 76%|███████▌  | 152/200 [07:33<02:17,  2.86s/it]"
          ]
        },
        {
          "output_type": "stream",
          "name": "stdout",
          "text": [
            "Validation Loss decreased, saving new best model\n",
            "Epochs = 151, Validation Loss : 0.021762806922197342\n",
            "Epochs = 152, Training Loss : 0.027972813695669174\n"
          ]
        },
        {
          "output_type": "stream",
          "name": "stderr",
          "text": [
            "\r 76%|███████▋  | 153/200 [07:36<02:14,  2.85s/it]"
          ]
        },
        {
          "output_type": "stream",
          "name": "stdout",
          "text": [
            "Validation Loss decreased, saving new best model\n",
            "Epochs = 152, Validation Loss : 0.021745622158050537\n",
            "Epochs = 153, Training Loss : 0.02958766184747219\n"
          ]
        },
        {
          "output_type": "stream",
          "name": "stderr",
          "text": [
            "\r 77%|███████▋  | 154/200 [07:39<02:11,  2.85s/it]"
          ]
        },
        {
          "output_type": "stream",
          "name": "stdout",
          "text": [
            "Validation Loss decreased, saving new best model\n",
            "Epochs = 153, Validation Loss : 0.02179739437997341\n",
            "Epochs = 154, Training Loss : 0.02596200816333294\n"
          ]
        },
        {
          "output_type": "stream",
          "name": "stderr",
          "text": [
            "\r 78%|███████▊  | 155/200 [07:41<02:08,  2.85s/it]"
          ]
        },
        {
          "output_type": "stream",
          "name": "stdout",
          "text": [
            "Validation Loss decreased, saving new best model\n",
            "Epochs = 154, Validation Loss : 0.02180054411292076\n",
            "Epochs = 155, Training Loss : 0.027335520833730698\n"
          ]
        },
        {
          "output_type": "stream",
          "name": "stderr",
          "text": [
            "\r 78%|███████▊  | 156/200 [07:44<02:05,  2.86s/it]"
          ]
        },
        {
          "output_type": "stream",
          "name": "stdout",
          "text": [
            "Validation Loss decreased, saving new best model\n",
            "Epochs = 155, Validation Loss : 0.02183636464178562\n",
            "Epochs = 156, Training Loss : 0.022270729765295982\n"
          ]
        },
        {
          "output_type": "stream",
          "name": "stderr",
          "text": [
            "\r 78%|███████▊  | 157/200 [07:47<02:03,  2.86s/it]"
          ]
        },
        {
          "output_type": "stream",
          "name": "stdout",
          "text": [
            "Validation Loss decreased, saving new best model\n",
            "Epochs = 156, Validation Loss : 0.02176930382847786\n",
            "Epochs = 157, Training Loss : 0.022977788001298904\n"
          ]
        },
        {
          "output_type": "stream",
          "name": "stderr",
          "text": [
            "\r 79%|███████▉  | 158/200 [07:50<02:00,  2.86s/it]"
          ]
        },
        {
          "output_type": "stream",
          "name": "stdout",
          "text": [
            "Validation Loss decreased, saving new best model\n",
            "Epochs = 157, Validation Loss : 0.02176154963672161\n",
            "Epochs = 158, Training Loss : 0.02365078590810299\n"
          ]
        },
        {
          "output_type": "stream",
          "name": "stderr",
          "text": [
            "\r 80%|███████▉  | 159/200 [07:53<01:57,  2.85s/it]"
          ]
        },
        {
          "output_type": "stream",
          "name": "stdout",
          "text": [
            "Validation Loss decreased, saving new best model\n",
            "Epochs = 158, Validation Loss : 0.021728815510869026\n",
            "Epochs = 159, Training Loss : 0.026377703994512558\n"
          ]
        },
        {
          "output_type": "stream",
          "name": "stderr",
          "text": [
            "\r 80%|████████  | 160/200 [07:56<01:54,  2.86s/it]"
          ]
        },
        {
          "output_type": "stream",
          "name": "stdout",
          "text": [
            "Validation Loss decreased, saving new best model\n",
            "Epochs = 159, Validation Loss : 0.021753128618001938\n",
            "Epochs = 160, Training Loss : 0.027086183428764343\n"
          ]
        },
        {
          "output_type": "stream",
          "name": "stderr",
          "text": [
            "\r 80%|████████  | 161/200 [07:59<01:51,  2.86s/it]"
          ]
        },
        {
          "output_type": "stream",
          "name": "stdout",
          "text": [
            "Validation Loss decreased, saving new best model\n",
            "Epochs = 160, Validation Loss : 0.021703746169805527\n",
            "Epochs = 161, Training Loss : 0.0232332032173872\n"
          ]
        },
        {
          "output_type": "stream",
          "name": "stderr",
          "text": [
            "\r 81%|████████  | 162/200 [08:01<01:48,  2.84s/it]"
          ]
        },
        {
          "output_type": "stream",
          "name": "stdout",
          "text": [
            "Validation Loss decreased, saving new best model\n",
            "Epochs = 161, Validation Loss : 0.02169978804886341\n",
            "Epochs = 162, Training Loss : 0.02298939973115921\n"
          ]
        },
        {
          "output_type": "stream",
          "name": "stderr",
          "text": [
            "\r 82%|████████▏ | 163/200 [08:04<01:45,  2.85s/it]"
          ]
        },
        {
          "output_type": "stream",
          "name": "stdout",
          "text": [
            "Validation Loss decreased, saving new best model\n",
            "Epochs = 162, Validation Loss : 0.021678907796740532\n",
            "Epochs = 163, Training Loss : 0.0250494834035635\n"
          ]
        },
        {
          "output_type": "stream",
          "name": "stderr",
          "text": [
            "\r 82%|████████▏ | 164/200 [08:07<01:42,  2.84s/it]"
          ]
        },
        {
          "output_type": "stream",
          "name": "stdout",
          "text": [
            "Validation Loss decreased, saving new best model\n",
            "Epochs = 163, Validation Loss : 0.021694911643862724\n",
            "Epochs = 164, Training Loss : 0.027854448184370995\n"
          ]
        },
        {
          "output_type": "stream",
          "name": "stderr",
          "text": [
            "\r 82%|████████▎ | 165/200 [08:10<01:40,  2.86s/it]"
          ]
        },
        {
          "output_type": "stream",
          "name": "stdout",
          "text": [
            "Validation Loss decreased, saving new best model\n",
            "Epochs = 164, Validation Loss : 0.021679582074284554\n",
            "Epochs = 165, Training Loss : 0.02256629429757595\n"
          ]
        },
        {
          "output_type": "stream",
          "name": "stderr",
          "text": [
            "\r 83%|████████▎ | 166/200 [08:13<01:37,  2.86s/it]"
          ]
        },
        {
          "output_type": "stream",
          "name": "stdout",
          "text": [
            "Validation Loss decreased, saving new best model\n",
            "Epochs = 165, Validation Loss : 0.021679965779185295\n",
            "Epochs = 166, Training Loss : 0.023588111624121666\n"
          ]
        },
        {
          "output_type": "stream",
          "name": "stderr",
          "text": [
            "\r 84%|████████▎ | 167/200 [08:16<01:34,  2.87s/it]"
          ]
        },
        {
          "output_type": "stream",
          "name": "stdout",
          "text": [
            "Validation Loss decreased, saving new best model\n",
            "Epochs = 166, Validation Loss : 0.02166145108640194\n",
            "Epochs = 167, Training Loss : 0.020826932042837143\n"
          ]
        },
        {
          "output_type": "stream",
          "name": "stderr",
          "text": [
            "\r 84%|████████▍ | 168/200 [08:19<01:32,  2.88s/it]"
          ]
        },
        {
          "output_type": "stream",
          "name": "stdout",
          "text": [
            "Validation Loss decreased, saving new best model\n",
            "Epochs = 167, Validation Loss : 0.021658379584550858\n",
            "Epochs = 168, Training Loss : 0.021049708127975464\n"
          ]
        },
        {
          "output_type": "stream",
          "name": "stderr",
          "text": [
            "\r 84%|████████▍ | 169/200 [08:21<01:29,  2.88s/it]"
          ]
        },
        {
          "output_type": "stream",
          "name": "stdout",
          "text": [
            "Validation Loss decreased, saving new best model\n",
            "Epochs = 168, Validation Loss : 0.021701106801629066\n",
            "Epochs = 169, Training Loss : 0.03231581300497055\n"
          ]
        },
        {
          "output_type": "stream",
          "name": "stderr",
          "text": [
            "\r 85%|████████▌ | 170/200 [08:24<01:26,  2.88s/it]"
          ]
        },
        {
          "output_type": "stream",
          "name": "stdout",
          "text": [
            "Validation Loss decreased, saving new best model\n",
            "Epochs = 169, Validation Loss : 0.021664155647158623\n",
            "Epochs = 170, Training Loss : 0.021744169294834137\n"
          ]
        },
        {
          "output_type": "stream",
          "name": "stderr",
          "text": [
            "\r 86%|████████▌ | 171/200 [08:27<01:23,  2.88s/it]"
          ]
        },
        {
          "output_type": "stream",
          "name": "stdout",
          "text": [
            "Validation Loss decreased, saving new best model\n",
            "Epochs = 170, Validation Loss : 0.021658431738615036\n",
            "Epochs = 171, Training Loss : 0.021066341549158096\n"
          ]
        },
        {
          "output_type": "stream",
          "name": "stderr",
          "text": [
            "\r 86%|████████▌ | 172/200 [08:30<01:20,  2.88s/it]"
          ]
        },
        {
          "output_type": "stream",
          "name": "stdout",
          "text": [
            "Validation Loss decreased, saving new best model\n",
            "Epochs = 171, Validation Loss : 0.021651268005371094\n",
            "Epochs = 172, Training Loss : 0.024485144764184952\n"
          ]
        },
        {
          "output_type": "stream",
          "name": "stderr",
          "text": [
            "\r 86%|████████▋ | 173/200 [08:33<01:17,  2.87s/it]"
          ]
        },
        {
          "output_type": "stream",
          "name": "stdout",
          "text": [
            "Validation Loss decreased, saving new best model\n",
            "Epochs = 172, Validation Loss : 0.021650588139891624\n",
            "Epochs = 173, Training Loss : 0.025811802595853806\n"
          ]
        },
        {
          "output_type": "stream",
          "name": "stderr",
          "text": [
            "\r 87%|████████▋ | 174/200 [08:36<01:14,  2.85s/it]"
          ]
        },
        {
          "output_type": "stream",
          "name": "stdout",
          "text": [
            "Validation Loss decreased, saving new best model\n",
            "Epochs = 173, Validation Loss : 0.021650774404406548\n",
            "Epochs = 174, Training Loss : 0.023504588752985\n"
          ]
        },
        {
          "output_type": "stream",
          "name": "stderr",
          "text": [
            "\r 88%|████████▊ | 175/200 [08:39<01:10,  2.84s/it]"
          ]
        },
        {
          "output_type": "stream",
          "name": "stdout",
          "text": [
            "Validation Loss decreased, saving new best model\n",
            "Epochs = 174, Validation Loss : 0.021639812737703323\n",
            "Epochs = 175, Training Loss : 0.022037196904420853\n"
          ]
        },
        {
          "output_type": "stream",
          "name": "stderr",
          "text": [
            "\r 88%|████████▊ | 176/200 [08:41<01:08,  2.84s/it]"
          ]
        },
        {
          "output_type": "stream",
          "name": "stdout",
          "text": [
            "Validation Loss decreased, saving new best model\n",
            "Epochs = 175, Validation Loss : 0.021640097722411156\n",
            "Epochs = 176, Training Loss : 0.023243403062224388\n"
          ]
        },
        {
          "output_type": "stream",
          "name": "stderr",
          "text": [
            "\r 88%|████████▊ | 177/200 [08:44<01:05,  2.85s/it]"
          ]
        },
        {
          "output_type": "stream",
          "name": "stdout",
          "text": [
            "Validation Loss decreased, saving new best model\n",
            "Epochs = 176, Validation Loss : 0.02163054421544075\n",
            "Epochs = 177, Training Loss : 0.02832581102848053\n"
          ]
        },
        {
          "output_type": "stream",
          "name": "stderr",
          "text": [
            "\r 89%|████████▉ | 178/200 [08:47<01:02,  2.86s/it]"
          ]
        },
        {
          "output_type": "stream",
          "name": "stdout",
          "text": [
            "Validation Loss decreased, saving new best model\n",
            "Epochs = 177, Validation Loss : 0.021646229550242424\n",
            "Epochs = 178, Training Loss : 0.028090408071875572\n"
          ]
        },
        {
          "output_type": "stream",
          "name": "stderr",
          "text": [
            "\r 90%|████████▉ | 179/200 [08:50<00:59,  2.85s/it]"
          ]
        },
        {
          "output_type": "stream",
          "name": "stdout",
          "text": [
            "Validation Loss decreased, saving new best model\n",
            "Epochs = 178, Validation Loss : 0.02162642404437065\n",
            "Epochs = 179, Training Loss : 0.03010469302535057\n"
          ]
        },
        {
          "output_type": "stream",
          "name": "stderr",
          "text": [
            "\r 90%|█████████ | 180/200 [08:53<00:56,  2.85s/it]"
          ]
        },
        {
          "output_type": "stream",
          "name": "stdout",
          "text": [
            "Validation Loss decreased, saving new best model\n",
            "Epochs = 179, Validation Loss : 0.021643945947289467\n",
            "Epochs = 180, Training Loss : 0.024465706199407578\n"
          ]
        },
        {
          "output_type": "stream",
          "name": "stderr",
          "text": [
            "\r 90%|█████████ | 181/200 [08:56<00:53,  2.84s/it]"
          ]
        },
        {
          "output_type": "stream",
          "name": "stdout",
          "text": [
            "Validation Loss decreased, saving new best model\n",
            "Epochs = 180, Validation Loss : 0.02169605903327465\n",
            "Epochs = 181, Training Loss : 0.020419571548700333\n"
          ]
        },
        {
          "output_type": "stream",
          "name": "stderr",
          "text": [
            "\r 91%|█████████ | 182/200 [08:58<00:51,  2.84s/it]"
          ]
        },
        {
          "output_type": "stream",
          "name": "stdout",
          "text": [
            "Validation Loss decreased, saving new best model\n",
            "Epochs = 181, Validation Loss : 0.021609006449580193\n",
            "Epochs = 182, Training Loss : 0.02394523099064827\n"
          ]
        },
        {
          "output_type": "stream",
          "name": "stderr",
          "text": [
            "\r 92%|█████████▏| 183/200 [09:01<00:48,  2.84s/it]"
          ]
        },
        {
          "output_type": "stream",
          "name": "stdout",
          "text": [
            "Validation Loss decreased, saving new best model\n",
            "Epochs = 182, Validation Loss : 0.021660514175891876\n",
            "Epochs = 183, Training Loss : 0.02623806521296501\n"
          ]
        },
        {
          "output_type": "stream",
          "name": "stderr",
          "text": [
            "\r 92%|█████████▏| 184/200 [09:04<00:45,  2.85s/it]"
          ]
        },
        {
          "output_type": "stream",
          "name": "stdout",
          "text": [
            "Validation Loss decreased, saving new best model\n",
            "Epochs = 183, Validation Loss : 0.021612035110592842\n",
            "Epochs = 184, Training Loss : 0.025615235790610313\n"
          ]
        },
        {
          "output_type": "stream",
          "name": "stderr",
          "text": [
            "\r 92%|█████████▎| 185/200 [09:07<00:42,  2.84s/it]"
          ]
        },
        {
          "output_type": "stream",
          "name": "stdout",
          "text": [
            "Validation Loss decreased, saving new best model\n",
            "Epochs = 184, Validation Loss : 0.02159934677183628\n",
            "Epochs = 185, Training Loss : 0.025685906410217285\n"
          ]
        },
        {
          "output_type": "stream",
          "name": "stderr",
          "text": [
            "\r 93%|█████████▎| 186/200 [09:10<00:39,  2.84s/it]"
          ]
        },
        {
          "output_type": "stream",
          "name": "stdout",
          "text": [
            "Validation Loss decreased, saving new best model\n",
            "Epochs = 185, Validation Loss : 0.021610194817185402\n",
            "Epochs = 186, Training Loss : 0.02581167221069336\n"
          ]
        },
        {
          "output_type": "stream",
          "name": "stderr",
          "text": [
            "\r 94%|█████████▎| 187/200 [09:13<00:37,  2.86s/it]"
          ]
        },
        {
          "output_type": "stream",
          "name": "stdout",
          "text": [
            "Validation Loss decreased, saving new best model\n",
            "Epochs = 186, Validation Loss : 0.02160326950252056\n",
            "Epochs = 187, Training Loss : 0.027589570730924606\n"
          ]
        },
        {
          "output_type": "stream",
          "name": "stderr",
          "text": [
            "\r 94%|█████████▍| 188/200 [09:16<00:34,  2.86s/it]"
          ]
        },
        {
          "output_type": "stream",
          "name": "stdout",
          "text": [
            "Validation Loss decreased, saving new best model\n",
            "Epochs = 187, Validation Loss : 0.021634070202708244\n",
            "Epochs = 188, Training Loss : 0.022397002205252647\n"
          ]
        },
        {
          "output_type": "stream",
          "name": "stderr",
          "text": [
            "\r 94%|█████████▍| 189/200 [09:18<00:31,  2.86s/it]"
          ]
        },
        {
          "output_type": "stream",
          "name": "stdout",
          "text": [
            "Validation Loss decreased, saving new best model\n",
            "Epochs = 188, Validation Loss : 0.021593376994132996\n",
            "Epochs = 189, Training Loss : 0.02607698366045952\n"
          ]
        },
        {
          "output_type": "stream",
          "name": "stderr",
          "text": [
            "\r 95%|█████████▌| 190/200 [09:21<00:28,  2.87s/it]"
          ]
        },
        {
          "output_type": "stream",
          "name": "stdout",
          "text": [
            "Validation Loss decreased, saving new best model\n",
            "Epochs = 189, Validation Loss : 0.02158454619348049\n",
            "Epochs = 190, Training Loss : 0.02485295943915844\n"
          ]
        },
        {
          "output_type": "stream",
          "name": "stderr",
          "text": [
            "\r 96%|█████████▌| 191/200 [09:24<00:25,  2.87s/it]"
          ]
        },
        {
          "output_type": "stream",
          "name": "stdout",
          "text": [
            "Validation Loss decreased, saving new best model\n",
            "Epochs = 190, Validation Loss : 0.021584436297416687\n",
            "Epochs = 191, Training Loss : 0.027593469247221947\n"
          ]
        },
        {
          "output_type": "stream",
          "name": "stderr",
          "text": [
            "\r 96%|█████████▌| 192/200 [09:27<00:23,  2.97s/it]"
          ]
        },
        {
          "output_type": "stream",
          "name": "stdout",
          "text": [
            "Validation Loss decreased, saving new best model\n",
            "Epochs = 191, Validation Loss : 0.021581830456852913\n",
            "Epochs = 192, Training Loss : 0.023037930950522423\n"
          ]
        },
        {
          "output_type": "stream",
          "name": "stderr",
          "text": [
            "\r 96%|█████████▋| 193/200 [09:31<00:21,  3.06s/it]"
          ]
        },
        {
          "output_type": "stream",
          "name": "stdout",
          "text": [
            "Validation Loss decreased, saving new best model\n",
            "Epochs = 192, Validation Loss : 0.021588750183582306\n",
            "Epochs = 193, Training Loss : 0.027358800172805786\n"
          ]
        },
        {
          "output_type": "stream",
          "name": "stderr",
          "text": [
            "\r 97%|█████████▋| 194/200 [09:34<00:17,  3.00s/it]"
          ]
        },
        {
          "output_type": "stream",
          "name": "stdout",
          "text": [
            "Validation Loss decreased, saving new best model\n",
            "Epochs = 193, Validation Loss : 0.02158508263528347\n",
            "Epochs = 194, Training Loss : 0.024465877562761307\n"
          ]
        },
        {
          "output_type": "stream",
          "name": "stderr",
          "text": [
            "\r 98%|█████████▊| 195/200 [09:36<00:14,  2.95s/it]"
          ]
        },
        {
          "output_type": "stream",
          "name": "stdout",
          "text": [
            "Validation Loss decreased, saving new best model\n",
            "Epochs = 194, Validation Loss : 0.021572651341557503\n",
            "Epochs = 195, Training Loss : 0.020579751580953598\n"
          ]
        },
        {
          "output_type": "stream",
          "name": "stderr",
          "text": [
            "\r 98%|█████████▊| 196/200 [09:39<00:11,  2.92s/it]"
          ]
        },
        {
          "output_type": "stream",
          "name": "stdout",
          "text": [
            "Validation Loss decreased, saving new best model\n",
            "Epochs = 195, Validation Loss : 0.02157449536025524\n",
            "Epochs = 196, Training Loss : 0.022127721458673477\n"
          ]
        },
        {
          "output_type": "stream",
          "name": "stderr",
          "text": [
            "\r 98%|█████████▊| 197/200 [09:42<00:08,  2.91s/it]"
          ]
        },
        {
          "output_type": "stream",
          "name": "stdout",
          "text": [
            "Validation Loss decreased, saving new best model\n",
            "Epochs = 196, Validation Loss : 0.021570006385445595\n",
            "Epochs = 197, Training Loss : 0.02269989810883999\n"
          ]
        },
        {
          "output_type": "stream",
          "name": "stderr",
          "text": [
            "\r 99%|█████████▉| 198/200 [09:45<00:05,  2.89s/it]"
          ]
        },
        {
          "output_type": "stream",
          "name": "stdout",
          "text": [
            "Validation Loss decreased, saving new best model\n",
            "Epochs = 197, Validation Loss : 0.02157008647918701\n",
            "Epochs = 198, Training Loss : 0.02119763195514679\n"
          ]
        },
        {
          "output_type": "stream",
          "name": "stderr",
          "text": [
            "\r100%|█████████▉| 199/200 [09:48<00:02,  2.88s/it]"
          ]
        },
        {
          "output_type": "stream",
          "name": "stdout",
          "text": [
            "Validation Loss decreased, saving new best model\n",
            "Epochs = 198, Validation Loss : 0.02156476117670536\n",
            "Epochs = 199, Training Loss : 0.023552894592285156\n"
          ]
        },
        {
          "output_type": "stream",
          "name": "stderr",
          "text": [
            "100%|██████████| 200/200 [09:51<00:00,  2.96s/it]"
          ]
        },
        {
          "output_type": "stream",
          "name": "stdout",
          "text": [
            "Validation Loss decreased, saving new best model\n",
            "Epochs = 199, Validation Loss : 0.02155771479010582\n",
            "Training Done\n"
          ]
        },
        {
          "output_type": "stream",
          "name": "stderr",
          "text": [
            "\n"
          ]
        }
      ]
    },
    {
      "cell_type": "code",
      "source": [
        "embedding_dim = (1, 64, 64, 64)"
      ],
      "metadata": {
        "id": "uCxs3eLvvVM8"
      },
      "execution_count": 9,
      "outputs": []
    },
    {
      "cell_type": "code",
      "source": [
        "def create_embedding(encoder, full_loader, embedding_dim, device):\n",
        "    encoder.eval()\n",
        "    embedding = torch.randn(embedding_dim)\n",
        "    # print(embedding.shape)\n",
        "\n",
        "    with torch.no_grad():\n",
        "        for batch_idx, (train_img, target_img) in enumerate(full_loader):\n",
        "            train_img = train_img.to(device)\n",
        "            enc_output = encoder(train_img).cpu()\n",
        "            # print(enc_output.shape)\n",
        "            embedding = torch.cat((embedding, enc_output), 0)\n",
        "            # print(embedding.shape)\n",
        "    \n",
        "    return embedding"
      ],
      "metadata": {
        "id": "j0xFI6-_wI1K"
      },
      "execution_count": 10,
      "outputs": []
    },
    {
      "cell_type": "code",
      "source": [
        "embedding = create_embedding(encoder, test_loader, embedding_dim, device)\n",
        "numpy_embedding = embedding.cpu().detach().numpy()\n",
        "print(embedding.shape)"
      ],
      "metadata": {
        "colab": {
          "base_uri": "https://localhost:8080/"
        },
        "id": "oIu5zg-KwPkb",
        "outputId": "0982ea9b-ddf1-4945-86ae-c4e7f3f910a7"
      },
      "execution_count": 11,
      "outputs": [
        {
          "output_type": "stream",
          "name": "stdout",
          "text": [
            "torch.Size([8, 64, 64, 64])\n"
          ]
        }
      ]
    },
    {
      "cell_type": "code",
      "source": [
        "import numpy as np\n",
        "num_images = numpy_embedding.shape[0]\n",
        "\n",
        "np.save(\"/content/MyDrive/MyDrive/SPOT/package_similarities/embeddings/embedding_0.npy\",numpy_embedding.reshape((num_images, -1)))"
      ],
      "metadata": {
        "id": "-g5zq5Q0wSqq"
      },
      "execution_count": 12,
      "outputs": []
    },
    {
      "cell_type": "markdown",
      "source": [
        "## Simple computation of similarities"
      ],
      "metadata": {
        "id": "DAXXqANvxkpk"
      }
    },
    {
      "cell_type": "code",
      "source": [
        "from sklearn.neighbors import NearestNeighbors\n",
        "\n",
        "def compute_similar_images(image, num_images, embedding, device):\n",
        "    \"\"\"\n",
        "    Given an image and number of similar images to search.\n",
        "    Returns the num_images closest neares images.\n",
        "    Args:\n",
        "    image: Image whose similar images are to be found.\n",
        "    num_images: Number of similar images to find.\n",
        "    embedding : A (num_images, embedding_dim) Embedding of images learnt from auto-encoder.\n",
        "    device : \"cuda\" or \"cpu\" device.\n",
        "    \"\"\"\n",
        "    \n",
        "    # image_tensor = T.ToTensor()(image)\n",
        "    image_tensor = T.Compose([T.Resize((IMG_WIDTH,IMG_HEIGHT)),T.ToTensor()])(image)\n",
        "    image_tensor = image_tensor.unsqueeze(0)\n",
        "    image_tensor = image_tensor.to(device)\n",
        "    \n",
        "    with torch.no_grad():\n",
        "        image_embedding = encoder(image_tensor).cpu().detach().numpy()\n",
        "        \n",
        "    flattened_embedding = image_embedding.reshape((image_embedding.shape[0], -1))\n",
        "\n",
        "    knn = NearestNeighbors(n_neighbors=num_images, metric=\"cosine\")\n",
        "    knn.fit(embedding)\n",
        "\n",
        "    _, indices = knn.kneighbors(flattened_embedding)\n",
        "    indices_list = indices.tolist()\n",
        "    return indices_list"
      ],
      "metadata": {
        "id": "C98-isbjwr7X"
      },
      "execution_count": 13,
      "outputs": []
    },
    {
      "cell_type": "code",
      "source": [
        "import matplotlib.pyplot as plt\n",
        "import cv2\n",
        "\n",
        "img_locs = \"/content/MyDrive/MyDrive/SPOT/package_similarities/bultos_cd_74/cd-recorte-6-sint.png\"\n",
        "img = Image.open(img_locs).convert(\"RGB\")\n",
        "similars = compute_similar_images(img,5,numpy_embedding.reshape((num_images, -1)),\"cuda\")\n",
        "print(similars)\n",
        "img_query = cv2.imread(img_locs)\n",
        "plt.figure(figsize=(20,25))\n",
        "\n",
        "img_store = sorted(os.listdir(IMG_SIM_PATH))\n",
        "plt.subplot(1,6,1)\n",
        "plt.xticks([])\n",
        "plt.yticks([])\n",
        "plt.grid(False)\n",
        "plt.title(\"Query\")\n",
        "plt.imshow(img_query[:,:,[2,1,0]])\n",
        "for i,s in enumerate(similars[0]):\n",
        "  plt.subplot(1,6,i+2)\n",
        "  plt.title(f\"similar {i+1}\")\n",
        "  plt.xticks([])\n",
        "  plt.yticks([])\n",
        "  plt.grid(False)\n",
        "  img_n = cv2.imread(IMG_SIM_PATH + img_store[s-1])\n",
        "  plt.imshow(img_n[:,:,[2,1,0]])\n",
        "plt.show()\n"
      ],
      "metadata": {
        "colab": {
          "base_uri": "https://localhost:8080/",
          "height": 303
        },
        "id": "HSsncSxwsMkg",
        "outputId": "bfd8574c-308f-4abf-8d6b-a680f1ec6ed3"
      },
      "execution_count": 14,
      "outputs": [
        {
          "output_type": "stream",
          "name": "stdout",
          "text": [
            "[[6, 7, 2, 3, 4]]\n"
          ]
        },
        {
          "output_type": "display_data",
          "data": {
            "text/plain": [
              "<Figure size 1440x1800 with 6 Axes>"
            ],
            "image/png": "[encoded data removed]"
          },
          "metadata": {}
        }
      ]
    }
  ]
}